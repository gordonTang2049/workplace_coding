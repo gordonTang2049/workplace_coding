{
 "cells": [
  {
   "cell_type": "code",
   "execution_count": 2,
   "id": "f729e051",
   "metadata": {},
   "outputs": [],
   "source": [
    "import pandas as pd\n",
    "import numpy as np\n",
    "import xlwings as xw"
   ]
  },
  {
   "cell_type": "code",
   "execution_count": 18,
   "id": "0aaa47ec",
   "metadata": {},
   "outputs": [
    {
     "name": "stderr",
     "output_type": "stream",
     "text": [
      "C:\\Users\\Gordon.Tang\\Anaconda3\\lib\\site-packages\\openpyxl\\worksheet\\_reader.py:312: UserWarning: Data Validation extension is not supported and will be removed\n",
      "  warn(msg)\n"
     ]
    }
   ],
   "source": [
    "IPATH = \"C:\\\\Users\\\\Gordon.Tang\\\\Desktop\\\\IFM\\\\propertyOnOffData\\\\on\\\\master_create_properties.xlsx\"\n",
    "OPATH = \"\"\n",
    "# .iloc[2:,15:]\n",
    "# new_header = df.iloc[0] #grab the first row for the header\n",
    "# df = df[1:] #take the data less the header row\n",
    "# df.columns = new_header #set the header row as the df header\n",
    "finance_df = pd.read_excel(IPATH, sheet_name=0).iloc[:,24:]\n",
    "corrigo_df = pd.read_excel(IPATH, sheet_name=1).iloc[:,1:]"
   ]
  },
  {
   "cell_type": "code",
   "execution_count": 19,
   "id": "df8587a1",
   "metadata": {},
   "outputs": [
    {
     "data": {
      "text/html": [
       "<div>\n",
       "<style scoped>\n",
       "    .dataframe tbody tr th:only-of-type {\n",
       "        vertical-align: middle;\n",
       "    }\n",
       "\n",
       "    .dataframe tbody tr th {\n",
       "        vertical-align: top;\n",
       "    }\n",
       "\n",
       "    .dataframe thead th {\n",
       "        text-align: right;\n",
       "    }\n",
       "</style>\n",
       "<table border=\"1\" class=\"dataframe\">\n",
       "  <thead>\n",
       "    <tr style=\"text-align: right;\">\n",
       "      <th></th>\n",
       "      <th>New Prop/Cust</th>\n",
       "      <th>Address - Line 1</th>\n",
       "      <th>Address - Line 2</th>\n",
       "      <th>Suburb</th>\n",
       "      <th>State</th>\n",
       "      <th>Postcode</th>\n",
       "      <th>Business Division</th>\n",
       "      <th>Business Name</th>\n",
       "      <th>Area Occupied</th>\n",
       "      <th>Landlord's Name</th>\n",
       "      <th>...</th>\n",
       "      <th>Landlord's Email Address</th>\n",
       "      <th>Occupied/Vacant</th>\n",
       "      <th>Square Metres</th>\n",
       "      <th>Leased/Owned</th>\n",
       "      <th>Client Property Code</th>\n",
       "      <th>OVCP ID</th>\n",
       "      <th>BU Number</th>\n",
       "      <th>Authorised Business Unit Rep - Name</th>\n",
       "      <th>Authorised Business Unit Rep - Email Address</th>\n",
       "      <th>Company Code &amp; Cost Centre Number</th>\n",
       "    </tr>\n",
       "  </thead>\n",
       "  <tbody>\n",
       "    <tr>\n",
       "      <th>0</th>\n",
       "      <td>New Property</td>\n",
       "      <td>176-178 Lennox St</td>\n",
       "      <td>Unit 2, Pathology Room 1&amp;2, ACC 13</td>\n",
       "      <td>RICHMOND</td>\n",
       "      <td>VIC</td>\n",
       "      <td>3121</td>\n",
       "      <td>PAT - Pathology</td>\n",
       "      <td>PAT-DOR</td>\n",
       "      <td>Pathology Room 1&amp;2, ACC 13</td>\n",
       "      <td>Peter Razos &amp; Maria Emetlis</td>\n",
       "      <td>...</td>\n",
       "      <td>peterrazos@hotmail.com</td>\n",
       "      <td>Occupied</td>\n",
       "      <td>90.00</td>\n",
       "      <td>Leased</td>\n",
       "      <td>PRY03455</td>\n",
       "      <td>95715367</td>\n",
       "      <td>4849803455</td>\n",
       "      <td>Ravdeep Dhnoa</td>\n",
       "      <td>Ravdeep.Dhnoa@dorevitch.com.au</td>\n",
       "      <td>208-313833</td>\n",
       "    </tr>\n",
       "    <tr>\n",
       "      <th>1</th>\n",
       "      <td>New Property</td>\n",
       "      <td>274 Mulgrave Rd</td>\n",
       "      <td>Shop 218, Pathology Room</td>\n",
       "      <td>WESTCOURT</td>\n",
       "      <td>QLD</td>\n",
       "      <td>4870</td>\n",
       "      <td>PAT - Pathology</td>\n",
       "      <td>PAT-QML</td>\n",
       "      <td>Pathology Room</td>\n",
       "      <td>FNQH Pty Ltd</td>\n",
       "      <td>...</td>\n",
       "      <td>management@fngh.com.au</td>\n",
       "      <td>Occupied</td>\n",
       "      <td>7.92</td>\n",
       "      <td>Leased</td>\n",
       "      <td>PRY03456</td>\n",
       "      <td>95720052</td>\n",
       "      <td>4849803456</td>\n",
       "      <td>Jayne Smart</td>\n",
       "      <td>Jayne.Smart@qml.com.au</td>\n",
       "      <td>204-536621</td>\n",
       "    </tr>\n",
       "  </tbody>\n",
       "</table>\n",
       "<p>2 rows × 22 columns</p>\n",
       "</div>"
      ],
      "text/plain": [
       "  New Prop/Cust   Address - Line 1                    Address - Line 2  \\\n",
       "0  New Property  176-178 Lennox St  Unit 2, Pathology Room 1&2, ACC 13   \n",
       "1  New Property    274 Mulgrave Rd            Shop 218, Pathology Room   \n",
       "\n",
       "     Suburb  State  Postcode Business Division  Business Name  \\\n",
       "0   RICHMOND   VIC      3121    PAT - Pathology       PAT-DOR   \n",
       "1  WESTCOURT   QLD      4870    PAT - Pathology       PAT-QML   \n",
       "\n",
       "                Area Occupied              Landlord's Name  ...  \\\n",
       "0  Pathology Room 1&2, ACC 13  Peter Razos & Maria Emetlis  ...   \n",
       "1             Pathology Room                  FNQH Pty Ltd  ...   \n",
       "\n",
       "  Landlord's Email Address Occupied/Vacant Square Metres Leased/Owned  \\\n",
       "0   peterrazos@hotmail.com        Occupied         90.00       Leased   \n",
       "1   management@fngh.com.au        Occupied          7.92       Leased   \n",
       "\n",
       "   Client Property Code   OVCP ID   BU Number  \\\n",
       "0              PRY03455  95715367  4849803455   \n",
       "1              PRY03456  95720052  4849803456   \n",
       "\n",
       "   Authorised Business Unit Rep - Name  \\\n",
       "0                        Ravdeep Dhnoa   \n",
       "1                          Jayne Smart   \n",
       "\n",
       "   Authorised Business Unit Rep - Email Address  \\\n",
       "0                Ravdeep.Dhnoa@dorevitch.com.au   \n",
       "1                        Jayne.Smart@qml.com.au   \n",
       "\n",
       "  Company Code & Cost Centre Number  \n",
       "0                        208-313833  \n",
       "1                        204-536621  \n",
       "\n",
       "[2 rows x 22 columns]"
      ]
     },
     "execution_count": 19,
     "metadata": {},
     "output_type": "execute_result"
    }
   ],
   "source": [
    "corrigo_df"
   ]
  },
  {
   "cell_type": "code",
   "execution_count": null,
   "id": "c34ac869",
   "metadata": {},
   "outputs": [],
   "source": []
  },
  {
   "cell_type": "code",
   "execution_count": null,
   "id": "29d7763e",
   "metadata": {},
   "outputs": [],
   "source": []
  },
  {
   "cell_type": "code",
   "execution_count": null,
   "id": "f4154117",
   "metadata": {},
   "outputs": [],
   "source": [
    "# Subledger code"
   ]
  },
  {
   "cell_type": "code",
   "execution_count": null,
   "id": "ebb8e171",
   "metadata": {},
   "outputs": [],
   "source": []
  },
  {
   "cell_type": "code",
   "execution_count": null,
   "id": "24245431",
   "metadata": {},
   "outputs": [],
   "source": []
  },
  {
   "cell_type": "code",
   "execution_count": null,
   "id": "149e47c6",
   "metadata": {},
   "outputs": [],
   "source": [
    "# .to_excel(PATH, index=False)\n",
    "PATH = \"C:\\\\Users\\\\Gordon.Tang\\\\Desktop\\\\IFM\\\\test.xlsx\"\n",
    "\n",
    "new_finance_header = finance_df.iloc[0]\n",
    "finance_df_ds = finance_df[1:]\n",
    "finance_df_ds.columns = new_finance_header\n",
    "finance_df_ds.to_excel(PATH, index=False)\n",
    "# finance_df\n"
   ]
  }
 ],
 "metadata": {
  "kernelspec": {
   "display_name": "Python 3 (ipykernel)",
   "language": "python",
   "name": "python3"
  },
  "language_info": {
   "codemirror_mode": {
    "name": "ipython",
    "version": 3
   },
   "file_extension": ".py",
   "mimetype": "text/x-python",
   "name": "python",
   "nbconvert_exporter": "python",
   "pygments_lexer": "ipython3",
   "version": "3.9.7"
  }
 },
 "nbformat": 4,
 "nbformat_minor": 5
}
