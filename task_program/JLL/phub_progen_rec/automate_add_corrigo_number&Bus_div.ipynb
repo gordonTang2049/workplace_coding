{
 "cells": [
  {
   "cell_type": "code",
   "execution_count": 84,
   "id": "45c65ea4",
   "metadata": {},
   "outputs": [],
   "source": [
    "import pandas as pd\n",
    "import numpy as np\n",
    "import re"
   ]
  },
  {
   "cell_type": "code",
   "execution_count": 98,
   "id": "7f4c8168",
   "metadata": {},
   "outputs": [],
   "source": [
    "def reomve_semiColon(df):\n",
    "    if \";\" in df[\"BU Number\"]:\n",
    "#     if type(df[\"BU Number\"]) != \"int\":\n",
    "#         print(df[\"BU Number\"])\n",
    "        result = df[\"BU Number\"].split(\";\",1)[0]\n",
    "        return result\n",
    "    else:\n",
    "        return df[\"BU Number\"]"
   ]
  },
  {
   "cell_type": "code",
   "execution_count": 139,
   "id": "e081f882",
   "metadata": {},
   "outputs": [],
   "source": [
    "IPATH_CORRIGO =  \"C:\\\\Users\\\\Gordon.Tang\\\\Desktop\\\\dataManagement\\\\ds\\\\corrigo\\\\Corrigo-CustomerList.xlsx\"\n",
    "IPATH_OFF_PROP = \"C:\\\\Users\\\\Gordon.Tang\\\\OneDrive - JLL\\Property OFF\\\\master_Properties_deactivated.xlsx\"\n",
    "\n",
    "df_corrigo = pd.read_excel(IPATH_CORRIGO)\n",
    "# df_prop = pd.read_excel(IPATH_OFF_PROP)\n",
    "\n",
    "# df_corrigo_1 = df_corrigo[[\"Customer Number\", \"BU Number\"]]\n",
    "# df_corrigo_2 = df_corrigo[df_corrigo.duplicated(subset=\"BU Number\")]\n",
    "\n",
    "# df_corrigo_2 = df_corrigo_2.dropna(subset=[\"BU Number\"])\n",
    "# df_corrigo_2[\"BU Number\"] = df_corrigo_2[\"BU Number\"].astype(np.int64)\n",
    "\n",
    "\n",
    "# df_prop[\"BU Number\"] = df_prop[\"BU Number\"].astype(str)\n",
    "# df_prop[\"BU Number\"] = df_prop.apply(reomve_semiColon, axis=1)\n",
    "# df_prop[\"BU Number\"] = df_prop[\"BU Number\"].astype(np.int64)\n",
    "\n",
    "\n",
    "# df_prop[\"BU Number\"] = df_prop[\"BU Number\"].str.replace('(?<=;)',\"\",regex=False)\n",
    "\n",
    "# df_prop = df_prop.dropna(subset=[\"BU Number\"])\n",
    "# df_prop[\"BU Number\"] = df_prop[\"BU Number\"].astype(np.int128)\n"
   ]
  },
  {
   "cell_type": "code",
   "execution_count": 104,
   "id": "31bbc9e3",
   "metadata": {},
   "outputs": [],
   "source": [
    "df = pd.merge(df_prop, df_corrigo_2, how=\"left\", on=\"BU Number\")"
   ]
  },
  {
   "cell_type": "code",
   "execution_count": 121,
   "id": "13d6a7b1",
   "metadata": {},
   "outputs": [
    {
     "data": {
      "text/plain": [
       "dtype('int64')"
      ]
     },
     "execution_count": 121,
     "metadata": {},
     "output_type": "execute_result"
    }
   ],
   "source": [
    "df_prop[\"BU Number\"].dtype\n",
    "df_corrigo_2[\"BU Number\"].dtype"
   ]
  },
  {
   "cell_type": "code",
   "execution_count": 118,
   "id": "dd585241",
   "metadata": {},
   "outputs": [
    {
     "data": {
      "text/html": [
       "<div>\n",
       "<style scoped>\n",
       "    .dataframe tbody tr th:only-of-type {\n",
       "        vertical-align: middle;\n",
       "    }\n",
       "\n",
       "    .dataframe tbody tr th {\n",
       "        vertical-align: top;\n",
       "    }\n",
       "\n",
       "    .dataframe thead th {\n",
       "        text-align: right;\n",
       "    }\n",
       "</style>\n",
       "<table border=\"1\" class=\"dataframe\">\n",
       "  <thead>\n",
       "    <tr style=\"text-align: right;\">\n",
       "      <th></th>\n",
       "      <th>Customer Number</th>\n",
       "      <th>BU Number</th>\n",
       "    </tr>\n",
       "  </thead>\n",
       "  <tbody>\n",
       "  </tbody>\n",
       "</table>\n",
       "</div>"
      ],
      "text/plain": [
       "Empty DataFrame\n",
       "Columns: [Customer Number, BU Number]\n",
       "Index: []"
      ]
     },
     "execution_count": 118,
     "metadata": {},
     "output_type": "execute_result"
    }
   ],
   "source": [
    "df_corrigo_2.loc[df_corrigo_2[\"BU Number\"] == 4849801502]"
   ]
  },
  {
   "cell_type": "code",
   "execution_count": 137,
   "id": "7dc1ab0a",
   "metadata": {},
   "outputs": [
    {
     "data": {
      "text/html": [
       "<div>\n",
       "<style scoped>\n",
       "    .dataframe tbody tr th:only-of-type {\n",
       "        vertical-align: middle;\n",
       "    }\n",
       "\n",
       "    .dataframe tbody tr th {\n",
       "        vertical-align: top;\n",
       "    }\n",
       "\n",
       "    .dataframe thead th {\n",
       "        text-align: right;\n",
       "    }\n",
       "</style>\n",
       "<table border=\"1\" class=\"dataframe\">\n",
       "  <thead>\n",
       "    <tr style=\"text-align: right;\">\n",
       "      <th></th>\n",
       "      <th>Property Number</th>\n",
       "      <th>Property Name</th>\n",
       "      <th>Customer Number</th>\n",
       "      <th>Customer Name</th>\n",
       "      <th>BU Number</th>\n",
       "      <th>Address 1</th>\n",
       "      <th>Address 2</th>\n",
       "      <th>City</th>\n",
       "      <th>State/Prov.</th>\n",
       "      <th>Zip/Postal Code</th>\n",
       "      <th>Country</th>\n",
       "    </tr>\n",
       "  </thead>\n",
       "  <tbody>\n",
       "  </tbody>\n",
       "</table>\n",
       "</div>"
      ],
      "text/plain": [
       "Empty DataFrame\n",
       "Columns: [Property Number, Property Name, Customer Number, Customer Name, BU Number, Address 1, Address 2, City, State/Prov., Zip/Postal Code, Country]\n",
       "Index: []"
      ]
     },
     "execution_count": 137,
     "metadata": {},
     "output_type": "execute_result"
    }
   ],
   "source": [
    "# df_prop[\"BU Number\"]\n",
    "df_corrigo[df_corrigo[\"BU Number\"].eq(4849800580)]"
   ]
  },
  {
   "cell_type": "code",
   "execution_count": 138,
   "id": "034ac57b",
   "metadata": {},
   "outputs": [
    {
     "data": {
      "text/html": [
       "<div>\n",
       "<style scoped>\n",
       "    .dataframe tbody tr th:only-of-type {\n",
       "        vertical-align: middle;\n",
       "    }\n",
       "\n",
       "    .dataframe tbody tr th {\n",
       "        vertical-align: top;\n",
       "    }\n",
       "\n",
       "    .dataframe thead th {\n",
       "        text-align: right;\n",
       "    }\n",
       "</style>\n",
       "<table border=\"1\" class=\"dataframe\">\n",
       "  <thead>\n",
       "    <tr style=\"text-align: right;\">\n",
       "      <th></th>\n",
       "      <th>Property Number</th>\n",
       "      <th>Property Name</th>\n",
       "      <th>Customer Number</th>\n",
       "      <th>Customer Name</th>\n",
       "      <th>BU Number</th>\n",
       "      <th>Address 1</th>\n",
       "      <th>Address 2</th>\n",
       "      <th>City</th>\n",
       "      <th>State/Prov.</th>\n",
       "      <th>Zip/Postal Code</th>\n",
       "      <th>Country</th>\n",
       "    </tr>\n",
       "  </thead>\n",
       "  <tbody>\n",
       "    <tr>\n",
       "      <th>186</th>\n",
       "      <td>PRY00504</td>\n",
       "      <td>QLD - ELANORA - 155 Nineteenth Avenu</td>\n",
       "      <td>187</td>\n",
       "      <td>PATHOLOGY - QML</td>\n",
       "      <td>4849800504</td>\n",
       "      <td>155 Nineteenth Avenue</td>\n",
       "      <td>NaN</td>\n",
       "      <td>ELANORA</td>\n",
       "      <td>QLD</td>\n",
       "      <td>4221.0</td>\n",
       "      <td>AU</td>\n",
       "    </tr>\n",
       "  </tbody>\n",
       "</table>\n",
       "</div>"
      ],
      "text/plain": [
       "    Property Number                         Property Name Customer Number  \\\n",
       "186        PRY00504  QLD - ELANORA - 155 Nineteenth Avenu             187   \n",
       "\n",
       "       Customer Name   BU Number              Address 1 Address 2     City  \\\n",
       "186  PATHOLOGY - QML  4849800504  155 Nineteenth Avenue       NaN  ELANORA   \n",
       "\n",
       "    State/Prov.  Zip/Postal Code Country  \n",
       "186         QLD           4221.0      AU  "
      ]
     },
     "execution_count": 138,
     "metadata": {},
     "output_type": "execute_result"
    }
   ],
   "source": [
    "df_corrigo[df_corrigo[\"Property Name\"].str.contains(\"155 Nineteenth\")]"
   ]
  },
  {
   "cell_type": "code",
   "execution_count": null,
   "id": "66ea1b20",
   "metadata": {},
   "outputs": [],
   "source": []
  }
 ],
 "metadata": {
  "kernelspec": {
   "display_name": "Python 3 (ipykernel)",
   "language": "python",
   "name": "python3"
  },
  "language_info": {
   "codemirror_mode": {
    "name": "ipython",
    "version": 3
   },
   "file_extension": ".py",
   "mimetype": "text/x-python",
   "name": "python",
   "nbconvert_exporter": "python",
   "pygments_lexer": "ipython3",
   "version": "3.9.7"
  }
 },
 "nbformat": 4,
 "nbformat_minor": 5
}
