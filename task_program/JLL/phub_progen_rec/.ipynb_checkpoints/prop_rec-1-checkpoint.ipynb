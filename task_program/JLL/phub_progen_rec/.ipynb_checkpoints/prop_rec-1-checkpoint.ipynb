{
 "cells": [
  {
   "cell_type": "code",
   "execution_count": 1,
   "id": "9500cc33",
   "metadata": {},
   "outputs": [],
   "source": [
    "import pandas as pd\n",
    "import numpy as np"
   ]
  },
  {
   "cell_type": "code",
   "execution_count": 2,
   "id": "1e4d3115",
   "metadata": {},
   "outputs": [],
   "source": [
    "def inactive_cus(df):\n",
    "    if \"inactive\" in df[\"Customer Name\"]:\n",
    "        return \"inactive\"\n",
    "    elif \"TEMP CLOSED COVID-19\" in df[\"Customer Name\"]:\n",
    "        return \"tem_close\"\n",
    "    else:\n",
    "        return \"active\"\n",
    "\n",
    "def join_addr(df):\n",
    "    if df.unknown == 'None'\n",
    "        print('hello world')\n",
    "#     ' - '.join()"
   ]
  },
  {
   "cell_type": "code",
   "execution_count": 12,
   "id": "84394f98",
   "metadata": {},
   "outputs": [
    {
     "data": {
      "text/html": [
       "<div>\n",
       "<style scoped>\n",
       "    .dataframe tbody tr th:only-of-type {\n",
       "        vertical-align: middle;\n",
       "    }\n",
       "\n",
       "    .dataframe tbody tr th {\n",
       "        vertical-align: top;\n",
       "    }\n",
       "\n",
       "    .dataframe thead th {\n",
       "        text-align: right;\n",
       "    }\n",
       "</style>\n",
       "<table border=\"1\" class=\"dataframe\">\n",
       "  <thead>\n",
       "    <tr style=\"text-align: right;\">\n",
       "      <th></th>\n",
       "      <th>state</th>\n",
       "      <th>suburb</th>\n",
       "      <th>addr_1</th>\n",
       "      <th>unknown</th>\n",
       "    </tr>\n",
       "  </thead>\n",
       "  <tbody>\n",
       "    <tr>\n",
       "      <th>1679</th>\n",
       "      <td>QLD</td>\n",
       "      <td>AYR</td>\n",
       "      <td>2a</td>\n",
       "      <td>10a Chippendale</td>\n",
       "    </tr>\n",
       "    <tr>\n",
       "      <th>3116</th>\n",
       "      <td>SA</td>\n",
       "      <td>Royal Park</td>\n",
       "      <td>1202</td>\n",
       "      <td>1210 Old Port</td>\n",
       "    </tr>\n",
       "    <tr>\n",
       "      <th>4169</th>\n",
       "      <td>SA</td>\n",
       "      <td>Royal Park</td>\n",
       "      <td>1202</td>\n",
       "      <td>1210 Old Port</td>\n",
       "    </tr>\n",
       "    <tr>\n",
       "      <th>1810</th>\n",
       "      <td>SA</td>\n",
       "      <td>Royal Park</td>\n",
       "      <td>1202</td>\n",
       "      <td>1210 Old Port</td>\n",
       "    </tr>\n",
       "    <tr>\n",
       "      <th>3316</th>\n",
       "      <td>SA</td>\n",
       "      <td>Royal Park</td>\n",
       "      <td>1202</td>\n",
       "      <td>1210 Old Port</td>\n",
       "    </tr>\n",
       "    <tr>\n",
       "      <th>...</th>\n",
       "      <td>...</td>\n",
       "      <td>...</td>\n",
       "      <td>...</td>\n",
       "      <td>...</td>\n",
       "    </tr>\n",
       "    <tr>\n",
       "      <th>4481</th>\n",
       "      <td>TAS</td>\n",
       "      <td>LAUNCESTON</td>\n",
       "      <td>127-129 Wellington S</td>\n",
       "      <td>None</td>\n",
       "    </tr>\n",
       "    <tr>\n",
       "      <th>4482</th>\n",
       "      <td>NSW</td>\n",
       "      <td>WENTWORTH POINT</td>\n",
       "      <td>5 Footbridge Blvd</td>\n",
       "      <td>None</td>\n",
       "    </tr>\n",
       "    <tr>\n",
       "      <th>4483</th>\n",
       "      <td>NSW</td>\n",
       "      <td>FIVE DOCK</td>\n",
       "      <td>88-90 Great North Rd</td>\n",
       "      <td>None</td>\n",
       "    </tr>\n",
       "    <tr>\n",
       "      <th>4484</th>\n",
       "      <td>VIC</td>\n",
       "      <td>RICHMOND</td>\n",
       "      <td>176-178 Lennox St</td>\n",
       "      <td>None</td>\n",
       "    </tr>\n",
       "    <tr>\n",
       "      <th>4485</th>\n",
       "      <td>QLD</td>\n",
       "      <td>WESTCOURT</td>\n",
       "      <td>274 Mulgrave Rd</td>\n",
       "      <td>None</td>\n",
       "    </tr>\n",
       "  </tbody>\n",
       "</table>\n",
       "<p>4486 rows × 4 columns</p>\n",
       "</div>"
      ],
      "text/plain": [
       "     state           suburb                addr_1          unknown\n",
       "1679   QLD              AYR                    2a  10a Chippendale\n",
       "3116    SA       Royal Park                  1202    1210 Old Port\n",
       "4169    SA       Royal Park                  1202    1210 Old Port\n",
       "1810    SA       Royal Park                  1202    1210 Old Port\n",
       "3316    SA       Royal Park                  1202    1210 Old Port\n",
       "...    ...              ...                   ...              ...\n",
       "4481   TAS       LAUNCESTON  127-129 Wellington S             None\n",
       "4482   NSW  WENTWORTH POINT     5 Footbridge Blvd             None\n",
       "4483   NSW        FIVE DOCK  88-90 Great North Rd             None\n",
       "4484   VIC         RICHMOND     176-178 Lennox St             None\n",
       "4485   QLD        WESTCOURT       274 Mulgrave Rd             None\n",
       "\n",
       "[4486 rows x 4 columns]"
      ]
     },
     "execution_count": 12,
     "metadata": {},
     "output_type": "execute_result"
    }
   ],
   "source": [
    "IPATH_corrigo = \"C:\\\\Users\\\\Gordon.Tang\\\\Desktop\\\\IFM\\\\corrigo_property_list\\\\CustomerList.xlsx\"\n",
    "IPATH_feed = \"C:\\\\Users\\\\Gordon.Tang\\\\Desktop\\\\IFM\\\\datafeed\\\\JLLFEED_19-Jan-2022.xlsx\"\n",
    "df_corrigo = pd.read_excel(IPATH_corrigo)\n",
    "\n",
    "df_feed = pd.read_excel(IPATH_feed)\n",
    "df_corrigo.Status = df_corrigo.apply(inactive_cus, axis=1)\n",
    "df_corrigo.sort_values(by=\"Status\")\n",
    "\n",
    "df_1 = df_corrigo[\"Property Name\"].str.split(\" - \", expand=True)\n",
    "\n",
    "df_1.columns = ['state', 'suburb', 'addr_1', 'unknown']\n",
    "df_1.\n",
    "\n",
    "# sort_values(by='unknown')"
   ]
  },
  {
   "cell_type": "code",
   "execution_count": 20,
   "id": "1d4955a2",
   "metadata": {},
   "outputs": [
    {
     "data": {
      "text/plain": [
       "36                        WA- JANDAKOT - 1 Sabre Crescent\n",
       "226      WA - YANGEBUP - 281 Beeliar Drive Yangebup ACC 1\n",
       "2134      WA - YANCHEP - 105 (Lot 615) Lindsa Yanchep ACC\n",
       "1062    WA - WINTHROP - 52 Hatherley Parade Winthrop A...\n",
       "31        WA - WILLETTON - Unit 1, 25 Yampi Way Willetton\n",
       "                              ...                        \n",
       "415     ACT - BELCONNEN - Cnr. Nettlefold Street & Cou...\n",
       "1354    ACT - BELCONNEN - 32 Totterdell Street Belconn...\n",
       "221                    ACT - ACTON - North Road Acton ACC\n",
       "2188    #SA - PARA HILLS - 1 Wilkinson Road Para Hills...\n",
       "1134    #SA - MILE END - 46 Sir Donald Bradma MILE END...\n",
       "Name: TenureName, Length: 2336, dtype: object"
      ]
     },
     "execution_count": 20,
     "metadata": {},
     "output_type": "execute_result"
    }
   ],
   "source": [
    "df_feed.sort_values(by=\"TenureName\", ascending=False).TenureName"
   ]
  },
  {
   "cell_type": "code",
   "execution_count": null,
   "id": "eb3dd882",
   "metadata": {},
   "outputs": [],
   "source": []
  },
  {
   "cell_type": "code",
   "execution_count": null,
   "id": "8e86885a",
   "metadata": {},
   "outputs": [],
   "source": []
  },
  {
   "cell_type": "code",
   "execution_count": null,
   "id": "958f8735",
   "metadata": {},
   "outputs": [],
   "source": []
  },
  {
   "cell_type": "code",
   "execution_count": null,
   "id": "cdcd4fc4",
   "metadata": {},
   "outputs": [],
   "source": []
  },
  {
   "cell_type": "code",
   "execution_count": null,
   "id": "aa8e7463",
   "metadata": {},
   "outputs": [],
   "source": []
  },
  {
   "cell_type": "code",
   "execution_count": null,
   "id": "f0ac1dbc",
   "metadata": {},
   "outputs": [],
   "source": []
  }
 ],
 "metadata": {
  "kernelspec": {
   "display_name": "Python 3 (ipykernel)",
   "language": "python",
   "name": "python3"
  },
  "language_info": {
   "codemirror_mode": {
    "name": "ipython",
    "version": 3
   },
   "file_extension": ".py",
   "mimetype": "text/x-python",
   "name": "python",
   "nbconvert_exporter": "python",
   "pygments_lexer": "ipython3",
   "version": "3.9.7"
  }
 },
 "nbformat": 4,
 "nbformat_minor": 5
}
