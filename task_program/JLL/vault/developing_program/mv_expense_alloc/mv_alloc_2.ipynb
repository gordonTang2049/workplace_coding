{
 "cells": [
  {
   "cell_type": "code",
   "execution_count": 2,
   "metadata": {},
   "outputs": [],
   "source": [
    "import pandas as pd\n",
    "import numpy as np\n",
    "import xlwings as xw\n",
    "import glob"
   ]
  },
  {
   "cell_type": "code",
   "execution_count": 14,
   "metadata": {},
   "outputs": [],
   "source": [
    "WEEK = \"40th_2021\"\n",
    "\n",
    "PATH_TRANSFORMED_MVEXP = f\"D:\\\\Run Analysis\\\\blob_storage\\\\truck_exp_other\\\\transformed_og_ds\\\\{WEEK}.csv\"   \n",
    "\n",
    "PATH_ROSTER = f\"D:\\\\Run Analysis\\\\blob_storage\\\\roster\\\\{WEEK}.xlsx\"\n",
    "\n",
    "PATH_COMPLETE_ALLOC = f\"D:\\\\Run Analysis\\\\blob_storage\\\\truck_exp_other\\\\processed\\\\{WEEK}_alloc.csv\"\n",
    "\n",
    "PATH_COMPLETE_DETAIL = f\"D:\\\\Run Analysis\\\\blob_storage\\\\truck_exp_other\\\\processed\\\\{WEEK}_deatiled.csv\"\n",
    "\n",
    "mvexp_df = pd.read_csv(PATH_TRANSFORMED_MVEXP)\n",
    "\n",
    "roster_df = pd.read_excel(PATH_ROSTER)\n",
    "\n",
    "mvexp_df_trucks_list = mvexp_df['Job No.'].unique()\n",
    "\n",
    "pri_trucks = roster_df.dropna(\n",
    "subset=['Primary_truck']).Primary_truck.str.replace(' ', '').unique()\n",
    "\n",
    "sec_trucks = roster_df.dropna(\n",
    "subset=['Alternative_Truck']).Alternative_Truck.str.replace(' ', '').unique()\n",
    "\n",
    "roster_df_trucks_list = np.append(pri_trucks, sec_trucks)\n",
    "\n",
    "uni_ros_trucks = list(set(roster_df_trucks_list))\n",
    "\n",
    "ros_trucks = np.array(uni_ros_trucks)\n",
    "\n",
    "# Excel\n",
    "trucks_not_in_yard = np.setdiff1d(\n",
    "ros_trucks, mvexp_df_trucks_list, assume_unique=True)\n",
    "# Excel\n",
    "trucks_in_yard = np.setdiff1d(\n",
    "mvexp_df_trucks_list, ros_trucks, assume_unique=True)"
   ]
  },
  {
   "cell_type": "code",
   "execution_count": 15,
   "metadata": {},
   "outputs": [],
   "source": [
    "def clean_roster_df(df):\n",
    "        df.Primary_truck = df.Primary_truck.str.replace(\" \", \"\")\n",
    "        df.Alternative_Truck = df.Alternative_Truck.str.replace(\" \", \"\")\n",
    "        df = df.fillna(0)\n",
    "        return df\n",
    "\n",
    "roster_df = clean_roster_df(roster_df)\n",
    "\n",
    "pri_truck_runs_count = roster_df.Primary_truck.value_counts()\n",
    "\n",
    "sec_truck_runs_count = roster_df.Alternative_Truck.value_counts()"
   ]
  },
  {
   "cell_type": "code",
   "execution_count": 18,
   "metadata": {},
   "outputs": [],
   "source": [
    "total_truck_runs_count = (pd\n",
    "                              .concat([pri_truck_runs_count, sec_truck_runs_count])\n",
    "                              .reset_index()\n",
    "                              .groupby('index')\n",
    "                              .sum().iloc[1:]\n",
    "                              .reset_index()\n",
    "                              .rename(columns={\"index\": \"number_plate\", 0: \"trucks\"})\n",
    "\n",
    "                              )"
   ]
  },
  {
   "cell_type": "code",
   "execution_count": 20,
   "metadata": {},
   "outputs": [],
   "source": [
    "mvexp_truckcounts_df = pd.merge(\n",
    "        mvexp_df, total_truck_runs_count, how=\"left\", left_on='Job No.', right_on='number_plate')"
   ]
  },
  {
   "cell_type": "code",
   "execution_count": 26,
   "metadata": {},
   "outputs": [],
   "source": [
    "mvexp_truckcounts_df['per_truck_cost'] = mvexp_truckcounts_df.Debit / \\\n",
    "        mvexp_truckcounts_df.trucks\n",
    "\n",
    "mvexp_cost_summary_df = mvexp_truckcounts_df[[\n",
    "        'Acc_name', 'Job No.', 'per_truck_cost']].dropna(subset=['per_truck_cost'])"
   ]
  },
  {
   "cell_type": "code",
   "execution_count": 56,
   "metadata": {},
   "outputs": [],
   "source": [
    "mvexp_cost_summary_df\n",
    "\n",
    "# truck_cost = pd.merge(roster_df, mvexp_cost_summary_df, how=\"left\",left_on='Primary_truck', right_on='Job No.')\n",
    "\n",
    "# total_truck_cost = pd.merge(truck_cost, mvexp_cost_summary_df, how=\"left\", left_on='Alternative_Truck', right_on='Job No.')  \n",
    "\n",
    "pri_truck_cost = pd.merge(roster_df, mvexp_cost_summary_df, how=\"left\",left_on='Primary_truck', right_on='Job No.')\n",
    "\n",
    "alt_truck_cost = pd.merge(roster_df, mvexp_cost_summary_df, how=\"left\", left_on='Alternative_Truck', right_on='Job No.') \n",
    "PATH =  \"D:\\\\Run Analysis\\\\blob_storage\\\\truck_exp_other\\\\truck_cost_3.csv\"\n",
    "\n",
    "truck_cost = pd.concat([pri_truck_cost, alt_truck_cost], ignore_index=True)\n",
    "\n",
    "# .to_csv(PATH, index=False)  \n"
   ]
  },
  {
   "cell_type": "code",
   "execution_count": 57,
   "metadata": {},
   "outputs": [],
   "source": [
    "\n",
    "def per_route_cost(df):\n",
    "    count = 0 \n",
    "    p_route = df.Primary_route\n",
    "    route_1 = df.Satellite_Route_1\n",
    "    route_2 = df.Satellite_Route_2\n",
    "    \n",
    "    if p_route != 0:\n",
    "        count = count + 1\n",
    "    if route_1 != 0:\n",
    "        count = count + 1\n",
    "    if route_2 != 0:\n",
    "        routes = route_2.split(\"/\")\n",
    "        count = count + len(routes)\n",
    "\n",
    "    cost = df.per_truck_cost / count\n",
    "    \n",
    "    return cost, count"
   ]
  },
  {
   "cell_type": "code",
   "execution_count": 59,
   "metadata": {},
   "outputs": [],
   "source": [
    "truck_cost[['a','b']] = truck_cost.apply(per_route_cost, axis=1, result_type='expand')"
   ]
  },
  {
   "cell_type": "code",
   "execution_count": 61,
   "metadata": {},
   "outputs": [],
   "source": [
    "PATH =  \"D:\\\\Run Analysis\\\\blob_storage\\\\truck_exp_other\\\\truck_cost_2.csv\"\n",
    "\n",
    "truck_cost.to_csv(PATH, index=False)\n"
   ]
  },
  {
   "cell_type": "code",
   "execution_count": null,
   "metadata": {},
   "outputs": [],
   "source": [
    "\n"
   ]
  },
  {
   "cell_type": "code",
   "execution_count": null,
   "metadata": {},
   "outputs": [],
   "source": []
  },
  {
   "cell_type": "code",
   "execution_count": null,
   "metadata": {},
   "outputs": [],
   "source": []
  },
  {
   "cell_type": "code",
   "execution_count": null,
   "metadata": {},
   "outputs": [],
   "source": []
  }
 ],
 "metadata": {
  "kernelspec": {
   "display_name": "Python 3",
   "language": "python",
   "name": "python3"
  },
  "language_info": {
   "codemirror_mode": {
    "name": "ipython",
    "version": 3
   },
   "file_extension": ".py",
   "mimetype": "text/x-python",
   "name": "python",
   "nbconvert_exporter": "python",
   "pygments_lexer": "ipython3",
   "version": "3.8.5"
  }
 },
 "nbformat": 4,
 "nbformat_minor": 4
}
