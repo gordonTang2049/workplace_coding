{
 "cells": [
  {
   "cell_type": "code",
   "execution_count": 1,
   "id": "317a0136",
   "metadata": {},
   "outputs": [],
   "source": [
    "import os\n",
    "import win32com.client\n",
    "from datetime import datetime, timedelta"
   ]
  },
  {
   "cell_type": "code",
   "execution_count": 56,
   "id": "282d7948",
   "metadata": {},
   "outputs": [
    {
     "data": {
      "text/plain": [
       "'[EXTERNAL] Notify NSW - NEWCASTLE - 205 Hunter St Newcastle ACC 1 -Setup Request Received for Exercise Option - Ref: 17649206. Submitter : Hannah.Lin@laverty.com.au'"
      ]
     },
     "execution_count": 56,
     "metadata": {},
     "output_type": "execute_result"
    }
   ],
   "source": [
    "# outlook.Folders.Item(4).Name\n",
    "# inbox = outlook.GetDefaultFolder(6)\n",
    "# messages = inbox.Items\n",
    "# messageL = messages.GetLast()\n",
    "# messageL.body\n",
    "# inbox.Items.GetLast()\n",
    "\n",
    "outlook.Folders['HealiusOnOffs.IFMAUS'].Folders['Inbox'].Items[1].Subject"
   ]
  },
  {
   "cell_type": "code",
   "execution_count": 57,
   "id": "6d2e3b4d",
   "metadata": {},
   "outputs": [
    {
     "data": {
      "text/plain": [
       "\" \\r\\n \\r\\n <https://knowsproperty.com/TenantCustomization/GetTenantLogo?skin=light&tenantId=38> \\t\\r\\n \\r\\n <https://nam02.safelinks.protection.outlook.com/?url=http%3A%2F%2Furl3615.knowsproperty.com%2Fls%2Fclick%3Fupn%3DxwWgCXfLXwMavqNRNGDFIua9QOdRe9qsZ1tve7I9anubhSIxXE-2FfXNC3mfuSCkNynHZ6_DYdPCIK-2B0hLWr3HGat1dVDvVDCv1p1TQPlxmLdfUx90rwGg9V0RFE7Xgb3pSZdP6kUZOT9IaIp5464J6ScKM5-2B3xN5e-2FjaWS0-2FKX1fyl7UDsMewjQx9HmL-2FlTANjN4uvOiToYN3r5InmovjKta2pBkFTaO5BtokE-2FAckjUcSHvtTUfrXhowI6NQCya3-2BL28DIlafTbABwx2qQtQKQYF6QthrqGKrb5FvDjPRrfaAAKg-3D&data=04%7C01%7Chealiusonoffs.ifmaus%40ap.jll.com%7C8d1966e34c0e466df17f08d9b9df5922%7Cbfef2b06d2564f8ebd038d3687987063%7C0%7C0%7C637745191339617306%7CUnknown%7CTWFpbGZsb3d8eyJWIjoiMC4wLjAwMDAiLCJQIjoiV2luMzIiLCJBTiI6Ik1haWwiLCJXVCI6Mn0%3D%7C3000&sdata=ZdUkTVRr72OJY2vEF0dyWkWgW1JQjUBH5baZrmFU2R4%3D&reserved=0> \\t\\r\\n \\r\\n \\r\\n \\r\\nA request for setup has been recieved \\r\\n \\r\\nAccount Id \\t4564240\\t\\r\\nAccount Name \\tFamcare (Nsw) Pty Limited\\t\\r\\nLease Id \\t6007933\\t\\r\\nLease Name \\tNSW - NEWCASTLE - 205 Hunter St Newcastle ACC 1\\t\\r\\nComments \\tHi team, EOO letter attached with thanks.\\t\\r\\nBusiness Unit \\tLAV\\t\\r\\nOVCP_ID - JLL Interface: \\t17649206\\t\\r\\n \\r\\n \\r\\nThis email is for the use of the intended recipient(s) only. If you have received this email in error, please notify the sender immediately and then delete it. If you are not the intended recipient, you must not keep, use, disclose, copy or distribute this email without the author's prior permission. We have taken precautions to minimize the risk of transmitting software viruses, but we advise you to carry out your own virus checks on any attachment to this message. We cannot accept liability for any loss or damage caused by software viruses. The information contained in this communication may be confidential and may be subject to the attorney-client privilege. If you are the intended recipient and you do not wish to receive similar electronic messages from us in the future then please respond to the sender to this effect. \\t\\r\\n \\r\\nThis email (including any attachments) is intended only for the addressee. It may contain confidential or legally privileged information. Confidentiality and privilege are not waived or lost if you are not the intended recipient of this email, nor may you use, review, disclose, disseminate or copy any information contained in or attached to it. If you receive this email in error, please delete it and any attachments from your system and notify us immediately. It is your responsibility to check this email and any attachments, before opening or using them, for viruses or defects. You assume all liability arising from opening or using this email and any attachment. Consider the environment before printing this e-mail. \\r\\n \\r\\n \\r\\n2021 © Petra. \\t\\r\\n \\r\\n <http://url3615.knowsproperty.com/wf/open?upn=gsl2s-2BbECN59gdC-2Bk7cAh-2FmoOLWrLAU9UAJxWjRITrmlwL39SC6CiOEW8wiyAFm-2F1rju0x8QTx9EeI9ah3zzW09-2B-2BPxqQ921vIdwhUh17X4zBQ-2Fn9WdoufJxz2uP-2FadTFIWv36wkLiV-2BjZiU3TuKRG-2BP5AA-2BCnFj-2FbeGbe7Ete2j457xuXd58A9AcUMD8mifcCJ2pFHAJEGpLve1-2FDzqefoMqvZSO2txNn1p-2F7Dt41E-3D> \""
      ]
     },
     "execution_count": 57,
     "metadata": {},
     "output_type": "execute_result"
    }
   ],
   "source": [
    "outlook.Folders['HealiusOnOffs.IFMAUS'].Folders['Inbox'].Items[1].Body"
   ]
  },
  {
   "cell_type": "markdown",
   "id": "9143e446",
   "metadata": {},
   "source": [
    "On / Off Property \n",
    "\n"
   ]
  },
  {
   "cell_type": "code",
   "execution_count": 66,
   "id": "195c4d65",
   "metadata": {},
   "outputs": [
    {
     "data": {
      "text/plain": [
       "47"
      ]
     },
     "execution_count": 66,
     "metadata": {},
     "output_type": "execute_result"
    }
   ],
   "source": [
    "outlook = win32com.client.Dispatch('outlook.application').GetNamespace(\"MAPI\")\n",
    "# for i in outlook.Folders['HealiusOnOffs.IFMAUS'].Folders['Inbox'].Items:\n",
    "#     print(i.SenderEmailAddress)\n",
    "#     if str.startswith(i.Subject, \"[EXTERNAL]\"): \n",
    "#         print(i.Subject)\n",
    "len(outlook.Folders['HealiusOnOffs.IFMAUS'].Folders['Inbox'].Items)"
   ]
  },
  {
   "cell_type": "code",
   "execution_count": null,
   "id": "7d6fadd5",
   "metadata": {},
   "outputs": [],
   "source": []
  },
  {
   "cell_type": "code",
   "execution_count": null,
   "id": "48f38fe6",
   "metadata": {},
   "outputs": [],
   "source": []
  },
  {
   "cell_type": "code",
   "execution_count": null,
   "id": "e3b449cc",
   "metadata": {},
   "outputs": [],
   "source": []
  },
  {
   "cell_type": "code",
   "execution_count": null,
   "id": "57bd2f3d",
   "metadata": {},
   "outputs": [],
   "source": [
    "# mapi = outlook.GetNamespace(\"MAPI\")\n",
    "# for account in mapi.Accounts:\n",
    "# \tprint(account.DeliveryStore.DisplayName)\n",
    "# inbox = mapi.GetDefaultFolder(6).Folders[\"HealiusOnOffs.IFMAUS\"]\n"
   ]
  }
 ],
 "metadata": {
  "kernelspec": {
   "display_name": "Python 3 (ipykernel)",
   "language": "python",
   "name": "python3"
  },
  "language_info": {
   "codemirror_mode": {
    "name": "ipython",
    "version": 3
   },
   "file_extension": ".py",
   "mimetype": "text/x-python",
   "name": "python",
   "nbconvert_exporter": "python",
   "pygments_lexer": "ipython3",
   "version": "3.9.7"
  }
 },
 "nbformat": 4,
 "nbformat_minor": 5
}
