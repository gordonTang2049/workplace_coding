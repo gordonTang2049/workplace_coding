{
 "cells": [
  {
   "cell_type": "code",
   "execution_count": null,
   "metadata": {},
   "outputs": [],
   "source": [
    "import pandas as pd\n",
    "\n",
    "# WE stands for WasteEdge \n",
    "class WE_transform:\n",
    "    def __init__(\n",
    "        self,\n",
    "        df : dataFrame\n",
    "    ):\n",
    "        self.df = df\n",
    "    \n",
    "    def split_weekday(df : dataframe):\n",
    "        \n",
    "        def split_weekday(route_num : str):\n",
    "            weekday = route_num.split('-')[1]\n",
    "            return weekday\n",
    "\n",
    "        def clean_route_number(route_num : str):\n",
    "            cleaned_route_num = re.sub(r'-.', '',route_num)\n",
    "            return cleaned_route_num\n",
    "\n",
    "        df['weekday'] = df['Route number'].apply(split_weekday)\n",
    "        df['Route number'] = df['Route number'].apply(clean_route_number)\n",
    "\n",
    "    \n",
    "    \n",
    "        "
   ]
  }
 ],
 "metadata": {
  "kernelspec": {
   "display_name": "Python 3",
   "language": "python",
   "name": "python3"
  },
  "language_info": {
   "codemirror_mode": {
    "name": "ipython",
    "version": 3
   },
   "file_extension": ".py",
   "mimetype": "text/x-python",
   "name": "python",
   "nbconvert_exporter": "python",
   "pygments_lexer": "ipython3",
   "version": "3.8.5"
  }
 },
 "nbformat": 4,
 "nbformat_minor": 4
}
