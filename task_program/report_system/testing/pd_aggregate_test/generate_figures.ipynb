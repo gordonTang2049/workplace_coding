{
 "cells": [
  {
   "cell_type": "code",
   "execution_count": 18,
   "metadata": {},
   "outputs": [],
   "source": [
    "import pandas as pd\n",
    "import re"
   ]
  },
  {
   "cell_type": "code",
   "execution_count": 19,
   "metadata": {},
   "outputs": [],
   "source": [
    "df = pd.read_csv(\"../df_test1.csv\")"
   ]
  },
  {
   "cell_type": "code",
   "execution_count": 20,
   "metadata": {},
   "outputs": [],
   "source": [
    "def split_weekday(route_num : str):\n",
    "    weekday = route_num.split('-')[1]\n",
    "    return weekday\n",
    "\n",
    "def clean_route_number(route_num : str):\n",
    "#     match dash => -  and then . \n",
    "    cleaned_route_num = re.sub(r'-.', '',route_num)\n",
    "    return cleaned_route_num"
   ]
  },
  {
   "cell_type": "code",
   "execution_count": 21,
   "metadata": {},
   "outputs": [],
   "source": [
    "df['weekday'] = df['Route number'].apply(split_weekday)\n",
    "df['Route number'] = df['Route number'].apply(clean_route_number)\n",
    "df['Date_index'] = pd.to_datetime(df['Date'],format='%d/%m/%Y')\n",
    "df = df.set_index(pd.DatetimeIndex(df['Date_index']))\n",
    "df.sort_values(by=['Date'], inplace=True, ascending=False)"
   ]
  },
  {
   "cell_type": "code",
   "execution_count": 22,
   "metadata": {},
   "outputs": [],
   "source": [
    "series = df.resample('7D')"
   ]
  },
  {
   "cell_type": "code",
   "execution_count": 49,
   "metadata": {},
   "outputs": [
    {
     "name": "stdout",
     "output_type": "stream",
     "text": [
      "Route number\n",
      "ALLMED       199.72\n",
      "AUSSKIP     2607.00\n",
      "Apr2          34.58\n",
      "BIN            0.00\n",
      "BR1        21215.27\n",
      "             ...   \n",
      "UOSGW      20783.38\n",
      "URM          306.70\n",
      "VEO         2024.92\n",
      "VEOACT      2227.02\n",
      "VTG         1860.10\n",
      "Name: Price, Length: 61, dtype: float64\n"
     ]
    }
   ],
   "source": [
    "series.Price.sum()\n",
    "series_1 = series.get_group('2020-12-02')\n",
    "\n",
    "s1 = series_1.groupby('Route number').Price.sum()\n",
    "a1 = s1.keys()\n",
    "b1 = [[i] for i in a1]\n",
    "print(s1)"
   ]
  },
  {
   "cell_type": "code",
   "execution_count": null,
   "metadata": {},
   "outputs": [],
   "source": []
  },
  {
   "cell_type": "code",
   "execution_count": null,
   "metadata": {},
   "outputs": [],
   "source": []
  },
  {
   "cell_type": "code",
   "execution_count": null,
   "metadata": {},
   "outputs": [],
   "source": []
  },
  {
   "cell_type": "code",
   "execution_count": null,
   "metadata": {},
   "outputs": [],
   "source": []
  },
  {
   "cell_type": "code",
   "execution_count": null,
   "metadata": {},
   "outputs": [],
   "source": []
  },
  {
   "cell_type": "code",
   "execution_count": null,
   "metadata": {},
   "outputs": [],
   "source": []
  },
  {
   "cell_type": "code",
   "execution_count": null,
   "metadata": {},
   "outputs": [],
   "source": []
  },
  {
   "cell_type": "code",
   "execution_count": null,
   "metadata": {},
   "outputs": [],
   "source": []
  },
  {
   "cell_type": "code",
   "execution_count": null,
   "metadata": {},
   "outputs": [],
   "source": []
  }
 ],
 "metadata": {
  "kernelspec": {
   "display_name": "Python 3",
   "language": "python",
   "name": "python3"
  },
  "language_info": {
   "codemirror_mode": {
    "name": "ipython",
    "version": 3
   },
   "file_extension": ".py",
   "mimetype": "text/x-python",
   "name": "python",
   "nbconvert_exporter": "python",
   "pygments_lexer": "ipython3",
   "version": "3.8.5"
  }
 },
 "nbformat": 4,
 "nbformat_minor": 4
}
