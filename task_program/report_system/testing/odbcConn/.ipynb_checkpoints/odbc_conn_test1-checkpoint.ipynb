{
 "cells": [
  {
   "cell_type": "code",
   "execution_count": 25,
   "metadata": {},
   "outputs": [
    {
     "name": "stdout",
     "output_type": "stream",
     "text": [
      "<pyodbc.Cursor object at 0x000000000DC0B3B0>\n"
     ]
    }
   ],
   "source": [
    "import pandas as pd\n",
    "import pyodbc as odbc\n",
    "\n",
    "sql_conn = pyodbc.connect('DRIVER={ODBC Driver 11 for SQL Server};SERVER=SW-SRV1\\ATSSQLEXPRESS;DATABASE=master;Trusted_Connection=yes')\n",
    "\n",
    "cursor = sql_conn.cursor()\n",
    "print(cursor)\n",
    "\n"
   ]
  },
  {
   "cell_type": "code",
   "execution_count": null,
   "metadata": {},
   "outputs": [],
   "source": []
  }
 ],
 "metadata": {
  "kernelspec": {
   "display_name": "Python 3",
   "language": "python",
   "name": "python3"
  },
  "language_info": {
   "codemirror_mode": {
    "name": "ipython",
    "version": 3
   },
   "file_extension": ".py",
   "mimetype": "text/x-python",
   "name": "python",
   "nbconvert_exporter": "python",
   "pygments_lexer": "ipython3",
   "version": "3.8.5"
  }
 },
 "nbformat": 4,
 "nbformat_minor": 4
}
