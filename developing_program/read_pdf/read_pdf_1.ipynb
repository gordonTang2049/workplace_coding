{
 "cells": [
  {
   "cell_type": "code",
   "execution_count": 11,
   "metadata": {},
   "outputs": [],
   "source": [
    "import pandas as pd\n",
    "from tika import parser \n"
   ]
  },
  {
   "cell_type": "code",
   "execution_count": 12,
   "metadata": {},
   "outputs": [
    {
     "ename": "ShellError",
     "evalue": "The command `pdftotext D:\\Run Analysis\\blob_storage\\tip_waste_edge\\processed\\Grima_report_01.10.21_15.10.21.pdf -` failed with exit code 127\n------------- stdout -------------\n------------- stderr -------------\n",
     "output_type": "error",
     "traceback": [
      "\u001b[1;31m---------------------------------------------------------------------------\u001b[0m",
      "\u001b[1;31mFileNotFoundError\u001b[0m                         Traceback (most recent call last)",
      "\u001b[1;32m~\\anaconda3\\lib\\site-packages\\textract\\parsers\\utils.py\u001b[0m in \u001b[0;36mrun\u001b[1;34m(self, args)\u001b[0m\n\u001b[0;32m     86\u001b[0m         \u001b[1;32mtry\u001b[0m\u001b[1;33m:\u001b[0m\u001b[1;33m\u001b[0m\u001b[1;33m\u001b[0m\u001b[0m\n\u001b[1;32m---> 87\u001b[1;33m             pipe = subprocess.Popen(\n\u001b[0m\u001b[0;32m     88\u001b[0m                 \u001b[0margs\u001b[0m\u001b[1;33m,\u001b[0m\u001b[1;33m\u001b[0m\u001b[1;33m\u001b[0m\u001b[0m\n",
      "\u001b[1;32m~\\anaconda3\\lib\\subprocess.py\u001b[0m in \u001b[0;36m__init__\u001b[1;34m(self, args, bufsize, executable, stdin, stdout, stderr, preexec_fn, close_fds, shell, cwd, env, universal_newlines, startupinfo, creationflags, restore_signals, start_new_session, pass_fds, encoding, errors, text)\u001b[0m\n\u001b[0;32m    853\u001b[0m \u001b[1;33m\u001b[0m\u001b[0m\n\u001b[1;32m--> 854\u001b[1;33m             self._execute_child(args, executable, preexec_fn, close_fds,\n\u001b[0m\u001b[0;32m    855\u001b[0m                                 \u001b[0mpass_fds\u001b[0m\u001b[1;33m,\u001b[0m \u001b[0mcwd\u001b[0m\u001b[1;33m,\u001b[0m \u001b[0menv\u001b[0m\u001b[1;33m,\u001b[0m\u001b[1;33m\u001b[0m\u001b[1;33m\u001b[0m\u001b[0m\n",
      "\u001b[1;32m~\\anaconda3\\lib\\subprocess.py\u001b[0m in \u001b[0;36m_execute_child\u001b[1;34m(self, args, executable, preexec_fn, close_fds, pass_fds, cwd, env, startupinfo, creationflags, shell, p2cread, p2cwrite, c2pread, c2pwrite, errread, errwrite, unused_restore_signals, unused_start_new_session)\u001b[0m\n\u001b[0;32m   1306\u001b[0m             \u001b[1;32mtry\u001b[0m\u001b[1;33m:\u001b[0m\u001b[1;33m\u001b[0m\u001b[1;33m\u001b[0m\u001b[0m\n\u001b[1;32m-> 1307\u001b[1;33m                 hp, ht, pid, tid = _winapi.CreateProcess(executable, args,\n\u001b[0m\u001b[0;32m   1308\u001b[0m                                          \u001b[1;31m# no special security\u001b[0m\u001b[1;33m\u001b[0m\u001b[1;33m\u001b[0m\u001b[1;33m\u001b[0m\u001b[0m\n",
      "\u001b[1;31mFileNotFoundError\u001b[0m: [WinError 2] The system cannot find the file specified",
      "\nDuring handling of the above exception, another exception occurred:\n",
      "\u001b[1;31mShellError\u001b[0m                                Traceback (most recent call last)",
      "\u001b[1;32m<ipython-input-12-965f960eb24c>\u001b[0m in \u001b[0;36m<module>\u001b[1;34m\u001b[0m\n\u001b[0;32m      1\u001b[0m \u001b[0mPATH\u001b[0m \u001b[1;33m=\u001b[0m \u001b[1;34m\"D:\\\\Run Analysis\\\\blob_storage\\\\tip_waste_edge\\\\processed\\\\Grima_report_01.10.21_15.10.21.pdf\"\u001b[0m\u001b[1;33m\u001b[0m\u001b[1;33m\u001b[0m\u001b[0m\n\u001b[0;32m      2\u001b[0m \u001b[0mraw\u001b[0m \u001b[1;33m=\u001b[0m \u001b[0mparser\u001b[0m\u001b[1;33m.\u001b[0m\u001b[0mfrom_file\u001b[0m\u001b[1;33m(\u001b[0m\u001b[0mPATH\u001b[0m\u001b[1;33m)\u001b[0m\u001b[1;33m\u001b[0m\u001b[1;33m\u001b[0m\u001b[0m\n\u001b[1;32m----> 3\u001b[1;33m \u001b[0mtext\u001b[0m \u001b[1;33m=\u001b[0m \u001b[0mtextract\u001b[0m\u001b[1;33m.\u001b[0m\u001b[0mprocess\u001b[0m\u001b[1;33m(\u001b[0m\u001b[0mPATH\u001b[0m\u001b[1;33m)\u001b[0m\u001b[1;33m\u001b[0m\u001b[1;33m\u001b[0m\u001b[0m\n\u001b[0m\u001b[0;32m      4\u001b[0m \u001b[1;33m\u001b[0m\u001b[0m\n\u001b[0;32m      5\u001b[0m \u001b[0mprint\u001b[0m\u001b[1;33m(\u001b[0m\u001b[0mtext\u001b[0m\u001b[1;33m)\u001b[0m\u001b[1;33m\u001b[0m\u001b[1;33m\u001b[0m\u001b[0m\n",
      "\u001b[1;32m~\\anaconda3\\lib\\site-packages\\textract\\parsers\\__init__.py\u001b[0m in \u001b[0;36mprocess\u001b[1;34m(filename, input_encoding, output_encoding, extension, **kwargs)\u001b[0m\n\u001b[0;32m     77\u001b[0m \u001b[1;33m\u001b[0m\u001b[0m\n\u001b[0;32m     78\u001b[0m     \u001b[0mparser\u001b[0m \u001b[1;33m=\u001b[0m \u001b[0mfiletype_module\u001b[0m\u001b[1;33m.\u001b[0m\u001b[0mParser\u001b[0m\u001b[1;33m(\u001b[0m\u001b[1;33m)\u001b[0m\u001b[1;33m\u001b[0m\u001b[1;33m\u001b[0m\u001b[0m\n\u001b[1;32m---> 79\u001b[1;33m     \u001b[1;32mreturn\u001b[0m \u001b[0mparser\u001b[0m\u001b[1;33m.\u001b[0m\u001b[0mprocess\u001b[0m\u001b[1;33m(\u001b[0m\u001b[0mfilename\u001b[0m\u001b[1;33m,\u001b[0m \u001b[0minput_encoding\u001b[0m\u001b[1;33m,\u001b[0m \u001b[0moutput_encoding\u001b[0m\u001b[1;33m,\u001b[0m \u001b[1;33m**\u001b[0m\u001b[0mkwargs\u001b[0m\u001b[1;33m)\u001b[0m\u001b[1;33m\u001b[0m\u001b[1;33m\u001b[0m\u001b[0m\n\u001b[0m\u001b[0;32m     80\u001b[0m \u001b[1;33m\u001b[0m\u001b[0m\n\u001b[0;32m     81\u001b[0m \u001b[1;33m\u001b[0m\u001b[0m\n",
      "\u001b[1;32m~\\anaconda3\\lib\\site-packages\\textract\\parsers\\utils.py\u001b[0m in \u001b[0;36mprocess\u001b[1;34m(self, filename, input_encoding, output_encoding, **kwargs)\u001b[0m\n\u001b[0;32m     44\u001b[0m         \u001b[1;31m# output encoding\u001b[0m\u001b[1;33m\u001b[0m\u001b[1;33m\u001b[0m\u001b[1;33m\u001b[0m\u001b[0m\n\u001b[0;32m     45\u001b[0m         \u001b[1;31m# http://nedbatchelder.com/text/unipain/unipain.html#35\u001b[0m\u001b[1;33m\u001b[0m\u001b[1;33m\u001b[0m\u001b[1;33m\u001b[0m\u001b[0m\n\u001b[1;32m---> 46\u001b[1;33m         \u001b[0mbyte_string\u001b[0m \u001b[1;33m=\u001b[0m \u001b[0mself\u001b[0m\u001b[1;33m.\u001b[0m\u001b[0mextract\u001b[0m\u001b[1;33m(\u001b[0m\u001b[0mfilename\u001b[0m\u001b[1;33m,\u001b[0m \u001b[1;33m**\u001b[0m\u001b[0mkwargs\u001b[0m\u001b[1;33m)\u001b[0m\u001b[1;33m\u001b[0m\u001b[1;33m\u001b[0m\u001b[0m\n\u001b[0m\u001b[0;32m     47\u001b[0m         \u001b[0municode_string\u001b[0m \u001b[1;33m=\u001b[0m \u001b[0mself\u001b[0m\u001b[1;33m.\u001b[0m\u001b[0mdecode\u001b[0m\u001b[1;33m(\u001b[0m\u001b[0mbyte_string\u001b[0m\u001b[1;33m,\u001b[0m \u001b[0minput_encoding\u001b[0m\u001b[1;33m)\u001b[0m\u001b[1;33m\u001b[0m\u001b[1;33m\u001b[0m\u001b[0m\n\u001b[0;32m     48\u001b[0m         \u001b[1;32mreturn\u001b[0m \u001b[0mself\u001b[0m\u001b[1;33m.\u001b[0m\u001b[0mencode\u001b[0m\u001b[1;33m(\u001b[0m\u001b[0municode_string\u001b[0m\u001b[1;33m,\u001b[0m \u001b[0moutput_encoding\u001b[0m\u001b[1;33m)\u001b[0m\u001b[1;33m\u001b[0m\u001b[1;33m\u001b[0m\u001b[0m\n",
      "\u001b[1;32m~\\anaconda3\\lib\\site-packages\\textract\\parsers\\pdf_parser.py\u001b[0m in \u001b[0;36mextract\u001b[1;34m(self, filename, method, **kwargs)\u001b[0m\n\u001b[0;32m     27\u001b[0m                     \u001b[1;32mreturn\u001b[0m \u001b[0mself\u001b[0m\u001b[1;33m.\u001b[0m\u001b[0mextract_pdfminer\u001b[0m\u001b[1;33m(\u001b[0m\u001b[0mfilename\u001b[0m\u001b[1;33m,\u001b[0m \u001b[1;33m**\u001b[0m\u001b[0mkwargs\u001b[0m\u001b[1;33m)\u001b[0m\u001b[1;33m\u001b[0m\u001b[1;33m\u001b[0m\u001b[0m\n\u001b[0;32m     28\u001b[0m                 \u001b[1;32melse\u001b[0m\u001b[1;33m:\u001b[0m\u001b[1;33m\u001b[0m\u001b[1;33m\u001b[0m\u001b[0m\n\u001b[1;32m---> 29\u001b[1;33m                     \u001b[1;32mraise\u001b[0m \u001b[0mex\u001b[0m\u001b[1;33m\u001b[0m\u001b[1;33m\u001b[0m\u001b[0m\n\u001b[0m\u001b[0;32m     30\u001b[0m \u001b[1;33m\u001b[0m\u001b[0m\n\u001b[0;32m     31\u001b[0m         \u001b[1;32melif\u001b[0m \u001b[0mmethod\u001b[0m \u001b[1;33m==\u001b[0m \u001b[1;34m'pdfminer'\u001b[0m\u001b[1;33m:\u001b[0m\u001b[1;33m\u001b[0m\u001b[1;33m\u001b[0m\u001b[0m\n",
      "\u001b[1;32m~\\anaconda3\\lib\\site-packages\\textract\\parsers\\pdf_parser.py\u001b[0m in \u001b[0;36mextract\u001b[1;34m(self, filename, method, **kwargs)\u001b[0m\n\u001b[0;32m     19\u001b[0m         \u001b[1;32mif\u001b[0m \u001b[0mmethod\u001b[0m \u001b[1;33m==\u001b[0m \u001b[1;34m''\u001b[0m \u001b[1;32mor\u001b[0m \u001b[0mmethod\u001b[0m \u001b[1;33m==\u001b[0m \u001b[1;34m'pdftotext'\u001b[0m\u001b[1;33m:\u001b[0m\u001b[1;33m\u001b[0m\u001b[1;33m\u001b[0m\u001b[0m\n\u001b[0;32m     20\u001b[0m             \u001b[1;32mtry\u001b[0m\u001b[1;33m:\u001b[0m\u001b[1;33m\u001b[0m\u001b[1;33m\u001b[0m\u001b[0m\n\u001b[1;32m---> 21\u001b[1;33m                 \u001b[1;32mreturn\u001b[0m \u001b[0mself\u001b[0m\u001b[1;33m.\u001b[0m\u001b[0mextract_pdftotext\u001b[0m\u001b[1;33m(\u001b[0m\u001b[0mfilename\u001b[0m\u001b[1;33m,\u001b[0m \u001b[1;33m**\u001b[0m\u001b[0mkwargs\u001b[0m\u001b[1;33m)\u001b[0m\u001b[1;33m\u001b[0m\u001b[1;33m\u001b[0m\u001b[0m\n\u001b[0m\u001b[0;32m     22\u001b[0m             \u001b[1;32mexcept\u001b[0m \u001b[0mShellError\u001b[0m \u001b[1;32mas\u001b[0m \u001b[0mex\u001b[0m\u001b[1;33m:\u001b[0m\u001b[1;33m\u001b[0m\u001b[1;33m\u001b[0m\u001b[0m\n\u001b[0;32m     23\u001b[0m                 \u001b[1;31m# If pdftotext isn't installed and the pdftotext method\u001b[0m\u001b[1;33m\u001b[0m\u001b[1;33m\u001b[0m\u001b[1;33m\u001b[0m\u001b[0m\n",
      "\u001b[1;32m~\\anaconda3\\lib\\site-packages\\textract\\parsers\\pdf_parser.py\u001b[0m in \u001b[0;36mextract_pdftotext\u001b[1;34m(self, filename, **kwargs)\u001b[0m\n\u001b[0;32m     42\u001b[0m         \u001b[1;32melse\u001b[0m\u001b[1;33m:\u001b[0m\u001b[1;33m\u001b[0m\u001b[1;33m\u001b[0m\u001b[0m\n\u001b[0;32m     43\u001b[0m             \u001b[0margs\u001b[0m \u001b[1;33m=\u001b[0m \u001b[1;33m[\u001b[0m\u001b[1;34m'pdftotext'\u001b[0m\u001b[1;33m,\u001b[0m \u001b[0mfilename\u001b[0m\u001b[1;33m,\u001b[0m \u001b[1;34m'-'\u001b[0m\u001b[1;33m]\u001b[0m\u001b[1;33m\u001b[0m\u001b[1;33m\u001b[0m\u001b[0m\n\u001b[1;32m---> 44\u001b[1;33m         \u001b[0mstdout\u001b[0m\u001b[1;33m,\u001b[0m \u001b[0m_\u001b[0m \u001b[1;33m=\u001b[0m \u001b[0mself\u001b[0m\u001b[1;33m.\u001b[0m\u001b[0mrun\u001b[0m\u001b[1;33m(\u001b[0m\u001b[0margs\u001b[0m\u001b[1;33m)\u001b[0m\u001b[1;33m\u001b[0m\u001b[1;33m\u001b[0m\u001b[0m\n\u001b[0m\u001b[0;32m     45\u001b[0m         \u001b[1;32mreturn\u001b[0m \u001b[0mstdout\u001b[0m\u001b[1;33m\u001b[0m\u001b[1;33m\u001b[0m\u001b[0m\n\u001b[0;32m     46\u001b[0m \u001b[1;33m\u001b[0m\u001b[0m\n",
      "\u001b[1;32m~\\anaconda3\\lib\\site-packages\\textract\\parsers\\utils.py\u001b[0m in \u001b[0;36mrun\u001b[1;34m(self, args)\u001b[0m\n\u001b[0;32m     93\u001b[0m                 \u001b[1;31m# File not found.\u001b[0m\u001b[1;33m\u001b[0m\u001b[1;33m\u001b[0m\u001b[1;33m\u001b[0m\u001b[0m\n\u001b[0;32m     94\u001b[0m                 \u001b[1;31m# This is equivalent to getting exitcode 127 from sh\u001b[0m\u001b[1;33m\u001b[0m\u001b[1;33m\u001b[0m\u001b[1;33m\u001b[0m\u001b[0m\n\u001b[1;32m---> 95\u001b[1;33m                 raise exceptions.ShellError(\n\u001b[0m\u001b[0;32m     96\u001b[0m                     \u001b[1;34m' '\u001b[0m\u001b[1;33m.\u001b[0m\u001b[0mjoin\u001b[0m\u001b[1;33m(\u001b[0m\u001b[0margs\u001b[0m\u001b[1;33m)\u001b[0m\u001b[1;33m,\u001b[0m \u001b[1;36m127\u001b[0m\u001b[1;33m,\u001b[0m \u001b[1;34m''\u001b[0m\u001b[1;33m,\u001b[0m \u001b[1;34m''\u001b[0m\u001b[1;33m,\u001b[0m\u001b[1;33m\u001b[0m\u001b[1;33m\u001b[0m\u001b[0m\n\u001b[0;32m     97\u001b[0m                 )\n",
      "\u001b[1;31mShellError\u001b[0m: The command `pdftotext D:\\Run Analysis\\blob_storage\\tip_waste_edge\\processed\\Grima_report_01.10.21_15.10.21.pdf -` failed with exit code 127\n------------- stdout -------------\n------------- stderr -------------\n"
     ]
    }
   ],
   "source": [
    "PATH = \"D:\\\\Run Analysis\\\\blob_storage\\\\tip_waste_edge\\\\processed\\\\Grima_report_01.10.21_15.10.21.pdf\"  \n",
    "raw = parser.from_file(PATH)\n",
    "textract\n",
    "text = textract.process(PATH)\n",
    "\n",
    "print(raw['content'])"
   ]
  },
  {
   "cell_type": "code",
   "execution_count": 7,
   "metadata": {},
   "outputs": [
    {
     "name": "stdout",
     "output_type": "stream",
     "text": [
      "{'metadata': {'Author': 'Carmen', 'Content-Type': 'application/pdf', 'Creation-Date': '2021-10-18T04:19:29Z', 'Last-Modified': '2021-10-18T04:19:29Z', 'Last-Save-Date': '2021-10-18T04:19:29Z', 'X-Parsed-By': ['org.apache.tika.parser.DefaultParser', 'org.apache.tika.parser.pdf.PDFParser'], 'X-TIKA:content_handler': 'ToTextContentHandler', 'X-TIKA:embedded_depth': '0', 'X-TIKA:parse_time_millis': '1314', 'access_permission:assemble_document': 'true', 'access_permission:can_modify': 'true', 'access_permission:can_print': 'true', 'access_permission:can_print_degraded': 'true', 'access_permission:extract_content': 'true', 'access_permission:extract_for_accessibility': 'true', 'access_permission:fill_in_form': 'true', 'access_permission:modify_annotations': 'true', 'created': '2021-10-18T04:19:29Z', 'creator': 'Carmen', 'date': '2021-10-18T04:19:29Z', 'dc:creator': 'Carmen', 'dc:format': 'application/pdf; version=1.7', 'dc:title': 'SUMMARY REPORT', 'dcterms:created': '2021-10-18T04:19:29Z', 'dcterms:modified': '2021-10-18T04:19:29Z', 'meta:author': 'Carmen', 'meta:creation-date': '2021-10-18T04:19:29Z', 'meta:save-date': '2021-10-18T04:19:29Z', 'modified': '2021-10-18T04:19:29Z', 'pdf:PDFVersion': '1.7', 'pdf:charsPerPage': ['1810', '2094', '2103', '2099', '1003'], 'pdf:docinfo:created': '2021-10-18T04:19:29Z', 'pdf:docinfo:creator': 'Carmen', 'pdf:docinfo:modified': '2021-10-18T04:19:29Z', 'pdf:docinfo:producer': 'Microsoft: Print To PDF', 'pdf:docinfo:title': 'SUMMARY REPORT', 'pdf:encrypted': 'false', 'pdf:hasMarkedContent': 'false', 'pdf:hasXFA': 'false', 'pdf:hasXMP': 'false', 'pdf:unmappedUnicodeCharsPerPage': ['0', '0', '0', '0', '0'], 'producer': 'Microsoft: Print To PDF', 'resourceName': \"b'Grima_report_01.10.21_15.10.21.pdf'\", 'title': 'SUMMARY REPORT', 'xmpTPg:NPages': '5'}, 'content': '\\n\\n\\n\\n\\n\\n\\n\\n\\n\\n\\n\\n\\n\\n\\n\\n\\n\\n\\n\\n\\n\\n\\n\\n\\n\\n\\n\\n\\n\\n\\n\\n\\n\\n\\n\\n\\n\\n\\n\\n\\n\\nSUMMARY REPORT\\n\\n\\n \\n\\nGRIMA RECYCLING\\n\\n01/10/2021 - 15/10/2021\\n\\nZero Dollars Deleted Dockets X Inward \\n\\nSUMMARY REPORT\\n\\nW-266259 XN65IJ01/10/21 12:03 A SYDNEY WASTE 9.62 7.84 1.780.00\\nDate Out Truck Contractor Gross Tare NetOtherDocket\\n\\nCustomer / Location Product Container Quantity Net Account\\n\\nLOOSE - 1.781.00CARDBOARD GRIMA\\n\\nW-266312 CH32FV01/10/21 11:05 A SYDNEY WASTE 12.54 10.48 2.060.00\\nDate Out Truck Contractor Gross Tare NetOtherDocket\\n\\nCustomer / Location Product Container Quantity Net Account\\n\\nLOOSE - 2.061.00CARDBOARD GRIMA\\n\\nW-266313 XN62UD01/10/21 11:38 A SYDNEY WASTE 11.86 10.44 1.420.00\\nDate Out Truck Contractor Gross Tare NetOtherDocket\\n\\nCustomer / Location Product Container Quantity Net Account\\n\\nLOOSE - 1.421.00CARDBOARD GRIMA\\n\\nW-266353 XN62UD02/10/21 07:46 A SYDNEY WASTE 12.04 10.44 1.600.00\\nDate Out Truck Contractor Gross Tare NetOtherDocket\\n\\nCustomer / Location Product Container Quantity Net Account\\n\\nLOOSE - 1.601.00CARDBOARD GRIMA\\n\\nW-266354 CG06UT02/10/21 08:06 A SYDNEY WASTE 15.96 13.06 2.900.00\\nDate Out Truck Contractor Gross Tare NetOtherDocket\\n\\nCustomer / Location Product Container Quantity Net Account\\n\\nLOOSE - 2.901.00CARDBOARD GRIMA\\n\\nW-266355 CG94KY02/10/21 08:27 A SYDNEY WASTE 8.24 6.84 1.400.00\\nDate Out Truck Contractor Gross Tare NetOtherDocket\\n\\nCustomer / Location Product Container Quantity Net Account\\n\\nLOOSE - 1.401.00CARDBOARD GRIMA\\n\\nW-266423 CG94KY05/10/21 07:41 A SYDNEY WASTE 7.06 6.84 0.220.00\\nDate Out Truck Contractor Gross Tare NetOtherDocket\\n\\nCustomer / Location Product Container Quantity Net Account\\n\\nLOOSE - 0.221.00CARDBOARD GRIMA\\n\\nW-266444 CF48ED05/10/21 10:13 A SYDNEY WASTE 11.24 10.26 0.980.00\\nDate Out Truck Contractor Gross Tare NetOtherDocket\\n\\nCustomer / Location Product Container Quantity Net Account\\n\\nLOOSE - 0.981.00CARDBOARD GRIMA\\n\\nW-266447 CH32FV05/10/21 10:22 A SYDNEY WASTE 11.82 10.48 1.340.00\\nDate Out Truck Contractor Gross Tare NetOtherDocket\\n\\nCustomer / Location Product Container Quantity Net Account\\n\\nLOOSE - 1.341.00CARDBOARD GRIMA\\n\\nDate: 18/10/2021 3:19:28 PM\\n\\n\\n\\nW-266448 CF71JM05/10/21 10:38 A SYDNEY WASTE 17.24 13.46 3.780.00\\nDate Out Truck Contractor Gross Tare NetOtherDocket\\n\\nCustomer / Location Product Container Quantity Net Account\\n\\nLOOSE - 3.781.00CARDBOARD GRIMA\\n\\nW-266498 XN62UD06/10/21 01:07 A SYDNEY WASTE 13.24 10.44 2.800.00\\nDate Out Truck Contractor Gross Tare NetOtherDocket\\n\\nCustomer / Location Product Container Quantity Net Account\\n\\nLOOSE - 2.801.00CARDBOARD GRIMA\\n\\nW-266500 XN65IJ06/10/21 01:46 A SYDNEY WASTE 9.92 7.84 2.080.00\\nDate Out Truck Contractor Gross Tare NetOtherDocket\\n\\nCustomer / Location Product Container Quantity Net Account\\n\\nLOOSE - 2.081.00CARDBOARD GRIMA\\n\\nW-266552 CQ64LO06/10/21 10:39 A SYDNEY WASTE 8.68 7.90 0.780.00\\nDate Out Truck Contractor Gross Tare NetOtherDocket\\n\\nCustomer / Location Product Container Quantity Net Account\\n\\nLOOSE - 0.781.00MIXED GRIMA\\n\\nW-266598 XN62UD06/10/21 11:40 P SYDNEY WASTE 12.92 10.44 2.480.00\\nDate Out Truck Contractor Gross Tare NetOtherDocket\\n\\nCustomer / Location Product Container Quantity Net Account\\n\\nLOOSE - 2.481.00CARDBOARD GRIMA\\n\\nW-266602 XN65IJ07/10/21 12:48 A SYDNEY WASTE 9.62 7.84 1.780.00\\nDate Out Truck Contractor Gross Tare NetOtherDocket\\n\\nCustomer / Location Product Container Quantity Net Account\\n\\nLOOSE - 1.781.00CARDBOARD GRIMA\\n\\nW-266644 CF71JM07/10/21 09:28 A SYDNEY WASTE 16.24 13.46 2.780.00\\nDate Out Truck Contractor Gross Tare NetOtherDocket\\n\\nCustomer / Location Product Container Quantity Net Account\\n\\nLOOSE - 2.781.00CARDBOARD GRIMA\\n\\nW-266655 CF48ED07/10/21 11:09 A SYDNEY WASTE 11.50 10.26 1.240.00\\nDate Out Truck Contractor Gross Tare NetOtherDocket\\n\\nCustomer / Location Product Container Quantity Net Account\\n\\nLOOSE - 1.241.00CARDBOARD GRIMA\\n\\nW-266661 XN62UD07/10/21 12:15 P SYDNEY WASTE 11.68 10.44 1.240.00\\nDate Out Truck Contractor Gross Tare NetOtherDocket\\n\\nCustomer / Location Product Container Quantity Net Account\\n\\nLOOSE - 1.241.00CARDBOARD GRIMA\\n\\nW-266693 XN65IJ08/10/21 12:47 A SYDNEY WASTE 9.66 7.84 1.820.00\\nDate Out Truck Contractor Gross Tare NetOtherDocket\\n\\nCustomer / Location Product Container Quantity Net Account\\n\\nLOOSE - 1.821.00CARDBOARD GRIMA\\n\\nW-266749 CH32FV08/10/21 11:34 A SYDNEY WASTE 12.66 10.48 2.180.00\\nDate Out Truck Contractor Gross Tare NetOtherDocket\\n\\nCustomer / Location Product Container Quantity Net Account\\n\\nLOOSE - 2.181.00CARDBOARD GRIMA\\n\\nDate: 18/10/2021 3:19:28 PM\\n\\n\\n\\nW-266751 XN62UD08/10/21 11:50 A SYDNEY WASTE 12.04 10.44 1.600.00\\nDate Out Truck Contractor Gross Tare NetOtherDocket\\n\\nCustomer / Location Product Container Quantity Net Account\\n\\nLOOSE - 1.601.00CARDBOARD GRIMA\\n\\nW-266791 CF71JM09/10/21 07:58 A SYDNEY WASTE 17.14 13.46 3.680.00\\nDate Out Truck Contractor Gross Tare NetOtherDocket\\n\\nCustomer / Location Product Container Quantity Net Account\\n\\nLOOSE - 3.681.00CARDBOARD GRIMA\\n\\nW-266792 CG94KY09/10/21 08:21 A SYDNEY WASTE 8.58 6.84 1.740.00\\nDate Out Truck Contractor Gross Tare NetOtherDocket\\n\\nCustomer / Location Product Container Quantity Net Account\\n\\nLOOSE - 1.741.00CARDBOARD GRIMA\\n\\nW-266793 XN62UD09/10/21 08:45 A SYDNEY WASTE 12.88 10.44 2.440.00\\nDate Out Truck Contractor Gross Tare NetOtherDocket\\n\\nCustomer / Location Product Container Quantity Net Account\\n\\nLOOSE - 2.441.00CARDBOARD GRIMA\\n\\nW-266871 CF48ED11/10/21 11:52 A SYDNEY WASTE 11.78 10.26 1.520.00\\nDate Out Truck Contractor Gross Tare NetOtherDocket\\n\\nCustomer / Location Product Container Quantity Net Account\\n\\nLOOSE - 1.521.00CARDBOARD GRIMA\\n\\nW-266887 XN62UD11/10/21 01:06 P SYDNEY WASTE 13.16 10.44 2.720.00\\nDate Out Truck Contractor Gross Tare NetOtherDocket\\n\\nCustomer / Location Product Container Quantity Net Account\\n\\nLOOSE - 2.721.00CARDBOARD GRIMA\\n\\nW-266909 CF71JM11/10/21 06:23 P SYDNEY WASTE 16.14 13.38 2.760.00\\nDate Out Truck Contractor Gross Tare NetOtherDocket\\n\\nCustomer / Location Product Container Quantity Net Account\\n\\nLOOSE - 2.761.00CARDBOARD GRIMA\\n\\nW-266913 XN62UD11/10/21 11:54 P SYDNEY WASTE 11.90 10.44 1.460.00\\nDate Out Truck Contractor Gross Tare NetOtherDocket\\n\\nCustomer / Location Product Container Quantity Net Account\\n\\nLOOSE - 1.461.00CARDBOARD GRIMA\\n\\nW-266915 XN65IJ12/10/21 01:56 A SYDNEY WASTE 10.18 7.84 2.340.00\\nDate Out Truck Contractor Gross Tare NetOtherDocket\\n\\nCustomer / Location Product Container Quantity Net Account\\n\\nLOOSE - 2.341.00CARDBOARD GRIMA\\n\\nW-266974 CH32FV12/10/21 11:20 A SYDNEY WASTE 12.84 10.48 2.360.00\\nDate Out Truck Contractor Gross Tare NetOtherDocket\\n\\nCustomer / Location Product Container Quantity Net Account\\n\\nLOOSE - 2.361.00CARDBOARD GRIMA\\n\\nW-267008 XN62UD13/10/21 12:24 A SYDNEY WASTE 13.50 10.44 3.060.00\\nDate Out Truck Contractor Gross Tare NetOtherDocket\\n\\nCustomer / Location Product Container Quantity Net Account\\n\\nLOOSE - 3.061.00CARDBOARD GRIMA\\n\\nDate: 18/10/2021 3:19:28 PM\\n\\n\\n\\nW-267009 XN65IJ13/10/21 01:29 A SYDNEY WASTE 10.18 7.84 2.340.00\\nDate Out Truck Contractor Gross Tare NetOtherDocket\\n\\nCustomer / Location Product Container Quantity Net Account\\n\\nLOOSE - 2.341.00CARDBOARD GRIMA\\n\\nW-267072 CQ64LO13/10/21 10:47 A SYDNEY WASTE 8.98 7.90 1.080.00\\nDate Out Truck Contractor Gross Tare NetOtherDocket\\n\\nCustomer / Location Product Container Quantity Net Account\\n\\nLOOSE - 1.081.00CARDBOARD GRIMA\\n\\nW-267077 XN23UV13/10/21 11:13 A SYDNEY WASTE 19.28 16.88 2.400.00\\nDate Out Truck Contractor Gross Tare NetOtherDocket\\n\\nCustomer / Location Product Container Quantity Net Account\\n\\nLOOSE - 2.401.00CARDBOARD GRIMA\\n\\nW-267082 CF71JM13/10/21 12:01 P SYDNEY WASTE 17.44 13.34 4.100.00\\nDate Out Truck Contractor Gross Tare NetOtherDocket\\n\\nCustomer / Location Product Container Quantity Net Account\\n\\nLOOSE - 4.101.00CARDBOARD GRIMA\\n\\nW-267086 XN62UD13/10/21 12:21 P SYDNEY WASTE 11.84 10.44 1.400.00\\nDate Out Truck Contractor Gross Tare NetOtherDocket\\n\\nCustomer / Location Product Container Quantity Net Account\\n\\nLOOSE - 1.401.00CARDBOARD GRIMA\\n\\nW-267105 XN23UV13/10/21 03:39 P SYDNEY WASTE 20.58 15.58 5.000.00\\nDate Out Truck Contractor Gross Tare NetOtherDocket\\n\\nCustomer / Location Product Container Quantity Net Account\\n\\nLOOSE - 5.001.00CARDBOARD GRIMA\\n\\nW-267118 XN62UD13/10/21 10:53 P SYDNEY WASTE 12.48 10.44 2.040.00\\nDate Out Truck Contractor Gross Tare NetOtherDocket\\n\\nCustomer / Location Product Container Quantity Net Account\\n\\nLOOSE - 2.041.00CARDBOARD GRIMA\\n\\nW-267121 XN65IJ14/10/21 01:43 A SYDNEY WASTE 10.10 7.84 2.260.00\\nDate Out Truck Contractor Gross Tare NetOtherDocket\\n\\nCustomer / Location Product Container Quantity Net Account\\n\\nLOOSE - 2.261.00CARDBOARD GRIMA\\n\\nW-267169 G94KY14/10/21 09:45 A SYDNEY WASTE 7.40 6.76 0.640.00\\nDate Out Truck Contractor Gross Tare NetOtherDocket\\n\\nCustomer / Location Product Container Quantity Net Account\\n\\nLOOSE - 0.641.00CARDBOARD GRIMA\\n\\nW-267174 CL98LU14/10/21 10:23 A SYDNEY WASTE 14.04 13.04 1.000.00\\nDate Out Truck Contractor Gross Tare NetOtherDocket\\n\\nCustomer / Location Product Container Quantity Net Account\\n\\nLOOSE - 1.001.00CARDBOARD GRIMA\\n\\nW-267190 XN62UD14/10/21 12:10 P SYDNEY WASTE 11.90 10.44 1.460.00\\nDate Out Truck Contractor Gross Tare NetOtherDocket\\n\\nCustomer / Location Product Container Quantity Net Account\\n\\nLOOSE - 1.461.00CARDBOARD GRIMA\\n\\nDate: 18/10/2021 3:19:28 PM\\n\\n\\n\\nW-267218 XN62UD15/10/21 12:31 A SYDNEY WASTE 13.22 10.44 2.780.00\\nDate Out Truck Contractor Gross Tare NetOtherDocket\\n\\nCustomer / Location Product Container Quantity Net Account\\n\\nLOOSE - 2.781.00CARDBOARD GRIMA\\n\\nW-267220 XN65IJ15/10/21 01:30 A SYDNEY WASTE 9.50 7.84 1.660.00\\nDate Out Truck Contractor Gross Tare NetOtherDocket\\n\\nCustomer / Location Product Container Quantity Net Account\\n\\nLOOSE - 1.661.00CARDBOARD GRIMA\\n\\nW-267258 CF48EDT15/10/21 10:08 A SYDNEY WASTE 11.56 10.30 1.260.00\\nDate Out Truck Contractor Gross Tare NetOtherDocket\\n\\nCustomer / Location Product Container Quantity Net Account\\n\\nLOOSE - 1.261.00CARDBOARD GRIMA\\n\\nW-267269 CF71JM15/10/21 11:26 A SYDNEY WASTE 15.66 13.44 2.220.00\\nDate Out Truck Contractor Gross Tare NetOtherDocket\\n\\nCustomer / Location Product Container Quantity Net Account\\n\\nLOOSE - 2.221.00CARDBOARD GRIMA\\n\\nW-267277 CH32FV15/10/21 12:03 P SYDNEY WASTE 13.10 10.48 2.620.00\\nDate Out Truck Contractor Gross Tare NetOtherDocket\\n\\nCustomer / Location Product Container Quantity Net Account\\n\\nLOOSE - 2.621.00CARDBOARD GRIMA\\n\\nNo of Transactions TOTALS: 96.6047\\n\\nDate: 18/10/2021 3:19:28 PM\\n\\n\\n', 'status': 200}\n"
     ]
    }
   ],
   "source": []
  },
  {
   "cell_type": "code",
   "execution_count": null,
   "metadata": {},
   "outputs": [],
   "source": []
  },
  {
   "cell_type": "code",
   "execution_count": null,
   "metadata": {},
   "outputs": [],
   "source": []
  },
  {
   "cell_type": "code",
   "execution_count": null,
   "metadata": {},
   "outputs": [],
   "source": []
  },
  {
   "cell_type": "code",
   "execution_count": null,
   "metadata": {},
   "outputs": [],
   "source": []
  },
  {
   "cell_type": "code",
   "execution_count": null,
   "metadata": {},
   "outputs": [],
   "source": []
  },
  {
   "cell_type": "code",
   "execution_count": null,
   "metadata": {},
   "outputs": [],
   "source": []
  },
  {
   "cell_type": "code",
   "execution_count": null,
   "metadata": {},
   "outputs": [],
   "source": []
  },
  {
   "cell_type": "code",
   "execution_count": null,
   "metadata": {},
   "outputs": [],
   "source": []
  },
  {
   "cell_type": "code",
   "execution_count": null,
   "metadata": {},
   "outputs": [],
   "source": []
  },
  {
   "cell_type": "code",
   "execution_count": null,
   "metadata": {},
   "outputs": [],
   "source": []
  },
  {
   "cell_type": "code",
   "execution_count": null,
   "metadata": {},
   "outputs": [],
   "source": []
  }
 ],
 "metadata": {
  "kernelspec": {
   "display_name": "Python 3",
   "language": "python",
   "name": "python3"
  },
  "language_info": {
   "codemirror_mode": {
    "name": "ipython",
    "version": 3
   },
   "file_extension": ".py",
   "mimetype": "text/x-python",
   "name": "python",
   "nbconvert_exporter": "python",
   "pygments_lexer": "ipython3",
   "version": "3.8.5"
  }
 },
 "nbformat": 4,
 "nbformat_minor": 4
}
