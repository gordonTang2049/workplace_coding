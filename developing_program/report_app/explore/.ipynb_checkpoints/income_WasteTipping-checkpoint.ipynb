{
 "cells": [
  {
   "cell_type": "code",
   "execution_count": 29,
   "metadata": {},
   "outputs": [],
   "source": [
    "import pandas as pd \n",
    "import numpy as np\n",
    "from enum import Enum\n",
    "import datetime"
   ]
  },
  {
   "cell_type": "code",
   "execution_count": 17,
   "metadata": {},
   "outputs": [],
   "source": [
    "class By_Revenue_type(Enum):\n",
    "    TOTAL = 'TOTAL'\n",
    "    TOTAL_EXCL_SUBCON = ['HOOK1', 'BR1', 'BR2', 'BR3', 'FL2', 'FLG', 'RL1', 'RL2', 'RL4', 'RL7', 'RL9', 'RLD', 'RLE', 'RLH', 'RLI',\n",
    "                         'RLJ', 'RLK', 'SWG', 'APR', 'FLP', 'HYG', 'RED', 'RL5', 'RL6', 'RL8', 'RLP', 'RLR', 'SWP', 'HOOKCB', 'CBK', 'RLC', 'RLG', 'DOY']\n",
    "                         \n",
    "    GENERAL_WASTE = ['HOOK1', 'BR1', 'BR2', 'BR3', 'FL2', 'FLG', 'RL1', 'RL2',\n",
    "                     'RL4', 'RL7', 'RL9', 'RLD', 'RLE', 'RLH', 'RLI', 'RLJ', 'RLK', 'SWG']\n",
    "    CARDBOARD = ['APR', 'FLP', 'HYG', 'RED', 'RL5',\n",
    "                 'RL6', 'RL8', 'RLP', 'RLR', 'SWP', 'HOOKCB']\n",
    "    COMINGLE = ['CBK', 'RLC', 'RLG', 'DOY']\n",
    "    SUBCONTRACTED = ['SUB', 'JJT', 'ALLMED', 'BIN', 'CKG', 'CLN', 'GRACE', 'JJR', 'OWE', 'REM', 'REP',\n",
    "                     'REQ', 'RRNW', 'RRR', 'SHR', 'SPD', 'SUE', 'URM', 'VEO', 'VEOACT', 'VTG', 'AUSSKIP', 'GRIMA']\n",
    "    UOS = ['UOSCB', 'UOSCO', 'UOSGW', 'CMDCB',\n",
    "           'CMDGW', 'CUMCB', 'CUMGW', 'NEPGW', 'NEPCB']\n"
   ]
  },
  {
   "cell_type": "code",
   "execution_count": 67,
   "metadata": {},
   "outputs": [
    {
     "data": {
      "text/plain": [
       "'11/08/2021'"
      ]
     },
     "execution_count": 67,
     "metadata": {},
     "output_type": "execute_result"
    }
   ],
   "source": [
    "PATH = \"D:\\\\Run Analysis\\\\blob_storage\\\\booking\\\\processed\\\\32th_2021.csv\"\n",
    "\n",
    "df = pd.read_csv(PATH)\n",
    "df.Date = pd.to_datetime(df.Date, format='%Y-%m-%d') \n",
    "df = df.sort_values(by='Date')\n",
    "date1 = df.Date.dt.strftime('%d/%m/%Y')[-1]\n",
    "date1"
   ]
  },
  {
   "cell_type": "code",
   "execution_count": null,
   "metadata": {},
   "outputs": [],
   "source": [
    "# total = []\n",
    "# gw = sorted(By_Revenue_type['GENERAL_WASTE'].value)\n",
    "# cm = sorted(By_Revenue_type['COMINGLE'].value)\n",
    "# cb = sorted(By_Revenue_type['CARDBOARD'].value)\n",
    "# uos = sorted(By_Revenue_type['UOS'].value)\n",
    "\n",
    "# total.append(gw)\n",
    "# total.append(cm)\n",
    "# total.append(cb)\n",
    "# total.append(uos)\n",
    "# total\n",
    "\n",
    "# def flatten(nest_list :list):\n",
    "#             return [item for sublist in nest_list for item in sublist]\n",
    "\n",
    "# total = flatten(total)\n",
    "# df.excl_gst_price.isin ()\n",
    "\n",
    "# df[df.Route_Number.isin(total)].excl_gst_price.sum()\n",
    "\n",
    "# for route in total:\n",
    "#     print(route)"
   ]
  },
  {
   "cell_type": "code",
   "execution_count": 19,
   "metadata": {},
   "outputs": [
    {
     "data": {
      "text/html": [
       "<div>\n",
       "<style scoped>\n",
       "    .dataframe tbody tr th:only-of-type {\n",
       "        vertical-align: middle;\n",
       "    }\n",
       "\n",
       "    .dataframe tbody tr th {\n",
       "        vertical-align: top;\n",
       "    }\n",
       "\n",
       "    .dataframe thead th {\n",
       "        text-align: right;\n",
       "    }\n",
       "</style>\n",
       "<table border=\"1\" class=\"dataframe\">\n",
       "  <thead>\n",
       "    <tr style=\"text-align: right;\">\n",
       "      <th></th>\n",
       "      <th>Sequence_No</th>\n",
       "      <th>Booking_No</th>\n",
       "      <th>Customer_Details</th>\n",
       "      <th>Route_No</th>\n",
       "      <th>Truck_No</th>\n",
       "      <th>Route_Date</th>\n",
       "      <th>Disposal_Date</th>\n",
       "      <th>Tip_Site</th>\n",
       "      <th>Tip_In_Time</th>\n",
       "      <th>Tip_Out_Time</th>\n",
       "      <th>...</th>\n",
       "      <th>Docket_No</th>\n",
       "      <th>Gross_Weight</th>\n",
       "      <th>Tare_Weight</th>\n",
       "      <th>Branch</th>\n",
       "      <th>Route_number</th>\n",
       "      <th>General_waste_cost</th>\n",
       "      <th>Cardboard_Grima_rebate</th>\n",
       "      <th>Cardboard_Poly_rebate</th>\n",
       "      <th>Comingle_cost</th>\n",
       "      <th>net_t</th>\n",
       "    </tr>\n",
       "  </thead>\n",
       "  <tbody>\n",
       "    <tr>\n",
       "      <th>0</th>\n",
       "      <td>289705422</td>\n",
       "      <td>0</td>\n",
       "      <td>NaN</td>\n",
       "      <td>BR1-3</td>\n",
       "      <td>XN75OS</td>\n",
       "      <td>2021-10-06 00:00:00.0000000</td>\n",
       "      <td>2021-10-06 00:00:00.0000000</td>\n",
       "      <td>Suez - Artarmon</td>\n",
       "      <td>00:00:00</td>\n",
       "      <td>03:27:16</td>\n",
       "      <td>...</td>\n",
       "      <td>AR110178263.0</td>\n",
       "      <td>10.06</td>\n",
       "      <td>8.00</td>\n",
       "      <td>NaN</td>\n",
       "      <td>BR1</td>\n",
       "      <td>550.4732</td>\n",
       "      <td>NaN</td>\n",
       "      <td>NaN</td>\n",
       "      <td>NaN</td>\n",
       "      <td>2.06</td>\n",
       "    </tr>\n",
       "    <tr>\n",
       "      <th>1</th>\n",
       "      <td>289838454</td>\n",
       "      <td>0</td>\n",
       "      <td>NaN</td>\n",
       "      <td>BR2-3</td>\n",
       "      <td>CJ65PS</td>\n",
       "      <td>2021-10-06 00:00:00.0000000</td>\n",
       "      <td>2021-10-07 00:00:00.0000000</td>\n",
       "      <td>Suez - Auburn</td>\n",
       "      <td>00:00:00</td>\n",
       "      <td>02:27:13</td>\n",
       "      <td>...</td>\n",
       "      <td>AU120155543.0</td>\n",
       "      <td>16.22</td>\n",
       "      <td>14.70</td>\n",
       "      <td>NaN</td>\n",
       "      <td>BR2</td>\n",
       "      <td>406.1744</td>\n",
       "      <td>NaN</td>\n",
       "      <td>NaN</td>\n",
       "      <td>NaN</td>\n",
       "      <td>1.52</td>\n",
       "    </tr>\n",
       "    <tr>\n",
       "      <th>2</th>\n",
       "      <td>289733841</td>\n",
       "      <td>0</td>\n",
       "      <td>NaN</td>\n",
       "      <td>BR3-3</td>\n",
       "      <td>XN06OJ</td>\n",
       "      <td>2021-10-06 00:00:00.0000000</td>\n",
       "      <td>2021-10-06 00:00:00.0000000</td>\n",
       "      <td>Suez - Wetherill Park</td>\n",
       "      <td>00:00:00</td>\n",
       "      <td>11:04:55</td>\n",
       "      <td>...</td>\n",
       "      <td>DR150084552</td>\n",
       "      <td>17.48</td>\n",
       "      <td>14.76</td>\n",
       "      <td>NaN</td>\n",
       "      <td>BR3</td>\n",
       "      <td>726.8384</td>\n",
       "      <td>NaN</td>\n",
       "      <td>NaN</td>\n",
       "      <td>NaN</td>\n",
       "      <td>2.72</td>\n",
       "    </tr>\n",
       "    <tr>\n",
       "      <th>3</th>\n",
       "      <td>289730946</td>\n",
       "      <td>0</td>\n",
       "      <td>NaN</td>\n",
       "      <td>CBK-3</td>\n",
       "      <td>XPL658</td>\n",
       "      <td>2021-10-06 00:00:00.0000000</td>\n",
       "      <td>2021-10-06 00:00:00.0000000</td>\n",
       "      <td>Visy Recycling</td>\n",
       "      <td>00:00:00</td>\n",
       "      <td>09:52:05</td>\n",
       "      <td>...</td>\n",
       "      <td>262600</td>\n",
       "      <td>7.52</td>\n",
       "      <td>7.24</td>\n",
       "      <td>NaN</td>\n",
       "      <td>CBK</td>\n",
       "      <td>NaN</td>\n",
       "      <td>NaN</td>\n",
       "      <td>NaN</td>\n",
       "      <td>53.2</td>\n",
       "      <td>0.28</td>\n",
       "    </tr>\n",
       "    <tr>\n",
       "      <th>4</th>\n",
       "      <td>289732788</td>\n",
       "      <td>0</td>\n",
       "      <td>NaN</td>\n",
       "      <td>CMDCB-3</td>\n",
       "      <td>CQ64LO</td>\n",
       "      <td>2021-10-06 00:00:00.0000000</td>\n",
       "      <td>2021-10-06 00:00:00.0000000</td>\n",
       "      <td>Grima Recycling</td>\n",
       "      <td>00:00:00</td>\n",
       "      <td>10:50:32</td>\n",
       "      <td>...</td>\n",
       "      <td>W266552</td>\n",
       "      <td>8.68</td>\n",
       "      <td>7.90</td>\n",
       "      <td>NaN</td>\n",
       "      <td>CMDCB</td>\n",
       "      <td>NaN</td>\n",
       "      <td>171.6</td>\n",
       "      <td>NaN</td>\n",
       "      <td>NaN</td>\n",
       "      <td>0.78</td>\n",
       "    </tr>\n",
       "  </tbody>\n",
       "</table>\n",
       "<p>5 rows × 27 columns</p>\n",
       "</div>"
      ],
      "text/plain": [
       "   Sequence_No  Booking_No  Customer_Details Route_No Truck_No  \\\n",
       "0    289705422           0               NaN    BR1-3   XN75OS   \n",
       "1    289838454           0               NaN    BR2-3   CJ65PS   \n",
       "2    289733841           0               NaN    BR3-3   XN06OJ   \n",
       "3    289730946           0               NaN    CBK-3   XPL658   \n",
       "4    289732788           0               NaN  CMDCB-3   CQ64LO   \n",
       "\n",
       "                    Route_Date                Disposal_Date  \\\n",
       "0  2021-10-06 00:00:00.0000000  2021-10-06 00:00:00.0000000   \n",
       "1  2021-10-06 00:00:00.0000000  2021-10-07 00:00:00.0000000   \n",
       "2  2021-10-06 00:00:00.0000000  2021-10-06 00:00:00.0000000   \n",
       "3  2021-10-06 00:00:00.0000000  2021-10-06 00:00:00.0000000   \n",
       "4  2021-10-06 00:00:00.0000000  2021-10-06 00:00:00.0000000   \n",
       "\n",
       "                Tip_Site Tip_In_Time Tip_Out_Time  ...      Docket_No  \\\n",
       "0        Suez - Artarmon    00:00:00     03:27:16  ...  AR110178263.0   \n",
       "1          Suez - Auburn    00:00:00     02:27:13  ...  AU120155543.0   \n",
       "2  Suez - Wetherill Park    00:00:00     11:04:55  ...    DR150084552   \n",
       "3         Visy Recycling    00:00:00     09:52:05  ...         262600   \n",
       "4        Grima Recycling    00:00:00     10:50:32  ...        W266552   \n",
       "\n",
       "   Gross_Weight  Tare_Weight  Branch Route_number  General_waste_cost  \\\n",
       "0         10.06         8.00     NaN          BR1            550.4732   \n",
       "1         16.22        14.70     NaN          BR2            406.1744   \n",
       "2         17.48        14.76     NaN          BR3            726.8384   \n",
       "3          7.52         7.24     NaN          CBK                 NaN   \n",
       "4          8.68         7.90     NaN        CMDCB                 NaN   \n",
       "\n",
       "  Cardboard_Grima_rebate Cardboard_Poly_rebate  Comingle_cost  net_t  \n",
       "0                    NaN                   NaN            NaN   2.06  \n",
       "1                    NaN                   NaN            NaN   1.52  \n",
       "2                    NaN                   NaN            NaN   2.72  \n",
       "3                    NaN                   NaN           53.2   0.28  \n",
       "4                  171.6                   NaN            NaN   0.78  \n",
       "\n",
       "[5 rows x 27 columns]"
      ]
     },
     "execution_count": 19,
     "metadata": {},
     "output_type": "execute_result"
    }
   ],
   "source": [
    "PATH_WE = \"D:\\\\Run Analysis\\\\blob_storage\\\\tip_waste_edge\\\\processed\\\\40th_2021.csv\"\n",
    "PATH_SUEZ = \"D:\\\\Run Analysis\\\\blob_storage\\\\tip_suez\\\\processed\\\\40th_2021.csv\"\n",
    "tipWe_df = pd.read_csv(PATH_WE)\n",
    "tipSuez_df = pd.read_csv(PATH_SUEZ)\n",
    "\n",
    "tipWe_df.head(5)"
   ]
  },
  {
   "cell_type": "code",
   "execution_count": 15,
   "metadata": {},
   "outputs": [
    {
     "data": {
      "text/plain": [
       "1443.9999999999995"
      ]
     },
     "execution_count": 15,
     "metadata": {},
     "output_type": "execute_result"
    }
   ],
   "source": [
    "\n",
    "tipWe_df.General_waste_cost.sum()\n",
    "tipWe_df.Cardboard_Grima_rebate.sum()\n",
    "tipWe_df.Cardboard_Poly_rebate.sum()\n",
    "tipWe_df.Comingle_cost.sum()"
   ]
  },
  {
   "cell_type": "code",
   "execution_count": 11,
   "metadata": {},
   "outputs": [
    {
     "data": {
      "text/plain": [
       "115508.50160000002"
      ]
     },
     "execution_count": 11,
     "metadata": {},
     "output_type": "execute_result"
    }
   ],
   "source": [
    "tipSuez_df.total_price.sum()"
   ]
  },
  {
   "cell_type": "code",
   "execution_count": null,
   "metadata": {},
   "outputs": [],
   "source": [
    "\n",
    "tipSuez_df.Route_number.isin() .General_waste_cost\n"
   ]
  },
  {
   "cell_type": "code",
   "execution_count": null,
   "metadata": {},
   "outputs": [],
   "source": []
  },
  {
   "cell_type": "code",
   "execution_count": null,
   "metadata": {},
   "outputs": [],
   "source": []
  },
  {
   "cell_type": "code",
   "execution_count": null,
   "metadata": {},
   "outputs": [],
   "source": []
  }
 ],
 "metadata": {
  "kernelspec": {
   "display_name": "Python 3",
   "language": "python",
   "name": "python3"
  },
  "language_info": {
   "codemirror_mode": {
    "name": "ipython",
    "version": 3
   },
   "file_extension": ".py",
   "mimetype": "text/x-python",
   "name": "python",
   "nbconvert_exporter": "python",
   "pygments_lexer": "ipython3",
   "version": "3.8.5"
  }
 },
 "nbformat": 4,
 "nbformat_minor": 4
}
