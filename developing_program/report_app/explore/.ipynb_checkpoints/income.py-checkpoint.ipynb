{
 "cells": [
  {
   "cell_type": "code",
   "execution_count": 23,
   "metadata": {},
   "outputs": [],
   "source": [
    "import pandas as pd \n",
    "import numpy as np\n",
    "from enum import Enum"
   ]
  },
  {
   "cell_type": "code",
   "execution_count": 24,
   "metadata": {},
   "outputs": [],
   "source": [
    "class By_Revenue_type(Enum):\n",
    "    TOTAL = 'TOTAL'\n",
    "    TOTAL_EXCL_SUBCON = ['HOOK1', 'BR1', 'BR2', 'BR3', 'FL2', 'FLG', 'RL1', 'RL2', 'RL4', 'RL7', 'RL9', 'RLD', 'RLE', 'RLH', 'RLI',\n",
    "                         'RLJ', 'RLK', 'SWG', 'APR', 'FLP', 'HYG', 'RED', 'RL5', 'RL6', 'RL8', 'RLP', 'RLR', 'SWP', 'HOOKCB', 'CBK', 'RLC', 'RLG', 'DOY']\n",
    "                         \n",
    "    GENERAL_WASTE = ['HOOK1', 'BR1', 'BR2', 'BR3', 'FL2', 'FLG', 'RL1', 'RL2',\n",
    "                     'RL4', 'RL7', 'RL9', 'RLD', 'RLE', 'RLH', 'RLI', 'RLJ', 'RLK', 'SWG']\n",
    "    CARDBOARD = ['APR', 'FLP', 'HYG', 'RED', 'RL5',\n",
    "                 'RL6', 'RL8', 'RLP', 'RLR', 'SWP', 'HOOKCB']\n",
    "    COMINGLE = ['CBK', 'RLC', 'RLG', 'DOY']\n",
    "    SUBCONTRACTED = ['SUB', 'JJT', 'ALLMED', 'BIN', 'CKG', 'CLN', 'GRACE', 'JJR', 'OWE', 'REM', 'REP',\n",
    "                     'REQ', 'RRNW', 'RRR', 'SHR', 'SPD', 'SUE', 'URM', 'VEO', 'VEOACT', 'VTG', 'AUSSKIP', 'GRIMA']\n",
    "    UOS = ['UOSCB', 'UOSCO', 'UOSGW', 'CMDCB',\n",
    "           'CMDGW', 'CUMCB', 'CUMGW', 'NEPGW', 'NEPCB']\n"
   ]
  },
  {
   "cell_type": "code",
   "execution_count": 26,
   "metadata": {},
   "outputs": [
    {
     "data": {
      "text/plain": [
       "227172.0"
      ]
     },
     "execution_count": 26,
     "metadata": {},
     "output_type": "execute_result"
    }
   ],
   "source": [
    "PATH = \"D:\\\\Run Analysis\\\\blob_storage\\\\booking\\\\processed\\\\32th_2021.csv\"\n",
    "\n",
    "df = pd.read_csv(PATH)\n",
    "\n",
    "total = []\n",
    "gw = sorted(By_Revenue_type['GENERAL_WASTE'].value)\n",
    "cm = sorted(By_Revenue_type['COMINGLE'].value)\n",
    "cb = sorted(By_Revenue_type['CARDBOARD'].value)\n",
    "uos = sorted(By_Revenue_type['UOS'].value)\n",
    "\n",
    "total.append(gw)\n",
    "total.append(cm)\n",
    "total.append(cb)\n",
    "total.append(uos)\n",
    "total\n",
    "\n",
    "def flatten(nest_list :list):\n",
    "            return [item for sublist in nest_list for item in sublist]\n",
    "\n",
    "total = flatten(total)\n",
    "# df.excl_gst_price.isin ()\n",
    "df[df.Route_Number.isin(total)].excl_gst_price.sum()\n"
   ]
  },
  {
   "cell_type": "code",
   "execution_count": null,
   "metadata": {},
   "outputs": [],
   "source": []
  },
  {
   "cell_type": "code",
   "execution_count": null,
   "metadata": {},
   "outputs": [],
   "source": []
  },
  {
   "cell_type": "code",
   "execution_count": null,
   "metadata": {},
   "outputs": [],
   "source": []
  },
  {
   "cell_type": "code",
   "execution_count": null,
   "metadata": {},
   "outputs": [],
   "source": []
  },
  {
   "cell_type": "code",
   "execution_count": null,
   "metadata": {},
   "outputs": [],
   "source": []
  },
  {
   "cell_type": "code",
   "execution_count": null,
   "metadata": {},
   "outputs": [],
   "source": []
  },
  {
   "cell_type": "code",
   "execution_count": null,
   "metadata": {},
   "outputs": [],
   "source": []
  }
 ],
 "metadata": {
  "kernelspec": {
   "display_name": "Python 3",
   "language": "python",
   "name": "python3"
  },
  "language_info": {
   "codemirror_mode": {
    "name": "ipython",
    "version": 3
   },
   "file_extension": ".py",
   "mimetype": "text/x-python",
   "name": "python",
   "nbconvert_exporter": "python",
   "pygments_lexer": "ipython3",
   "version": "3.8.5"
  }
 },
 "nbformat": 4,
 "nbformat_minor": 4
}
